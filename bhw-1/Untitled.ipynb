{
 "cells": [
  {
   "cell_type": "code",
   "execution_count": 1,
   "id": "8c9a5c78-d549-4c13-a45e-2c52c51e5f33",
   "metadata": {
    "execution": {
     "iopub.execute_input": "2025-01-23T16:07:51.621263Z",
     "iopub.status.busy": "2025-01-23T16:07:51.620297Z",
     "iopub.status.idle": "2025-01-23T16:08:06.804863Z",
     "shell.execute_reply": "2025-01-23T16:08:06.804027Z",
     "shell.execute_reply.started": "2025-01-23T16:07:51.621220Z"
    }
   },
   "outputs": [],
   "source": [
    "import torch\n",
    "import torch.nn as nn\n",
    "import torch.optim as optim\n",
    "import torch.nn.functional as F\n",
    "from torchvision import transforms\n",
    "from torchvision.transforms import RandAugment\n",
    "import matplotlib.pyplot as plt\n",
    "from torch.optim.lr_scheduler import ReduceLROnPlateau\n",
    "from torch.optim.lr_scheduler import CyclicLR\n",
    "from torch.optim.lr_scheduler import CosineAnnealingLR\n",
    "from torchvision.models import resnet50\n",
    "from tqdm import tqdm\n",
    "import numpy as np\n",
    "import os\n",
    "import pandas as pd\n",
    "from PIL import Image\n",
    "from torch.utils.data import Dataset, DataLoader, random_split\n",
    "from torchvision.transforms import v2\n",
    "from torch.utils.data import Subset\n",
    "from sklearn.model_selection import train_test_split"
   ]
  },
  {
   "cell_type": "code",
   "execution_count": 2,
   "id": "63eb3cb4-c6b3-4bb7-abd3-e976243dc9ea",
   "metadata": {
    "execution": {
     "iopub.execute_input": "2025-01-23T16:08:06.807023Z",
     "iopub.status.busy": "2025-01-23T16:08:06.806360Z",
     "iopub.status.idle": "2025-01-23T16:08:06.831083Z",
     "shell.execute_reply": "2025-01-23T16:08:06.830117Z",
     "shell.execute_reply.started": "2025-01-23T16:08:06.806989Z"
    }
   },
   "outputs": [],
   "source": [
    "extract_dir = '/home/jupyter/mnt/datasets/'\n",
    "train_labels_csv = os.path.join(extract_dir, 'bhw1/labels.csv')\n",
    "train_image_dir = os.path.join(extract_dir, 'bhw1/trainval')\n",
    "test_image_dir = os.path.join(extract_dir, 'bhw1/test')\n",
    "sample_submission_csv = os.path.join(extract_dir, 'bhw1/sample_submission.csv')"
   ]
  },
  {
   "cell_type": "code",
   "execution_count": 3,
   "id": "68d46c7b-44ff-43f0-bce8-210758b5a79e",
   "metadata": {
    "execution": {
     "iopub.execute_input": "2025-01-23T16:08:06.833301Z",
     "iopub.status.busy": "2025-01-23T16:08:06.832098Z",
     "iopub.status.idle": "2025-01-23T16:08:06.856802Z",
     "shell.execute_reply": "2025-01-23T16:08:06.855945Z",
     "shell.execute_reply.started": "2025-01-23T16:08:06.833265Z"
    }
   },
   "outputs": [],
   "source": [
    "class ImageDataset(Dataset):\n",
    "    def __init__(self, labels_csv, image_dir, transform=None):\n",
    "        self.data = pd.read_csv(labels_csv)\n",
    "        self.image_dir = image_dir\n",
    "        self.transform = transform\n",
    "\n",
    "    def __len__(self):\n",
    "        return len(self.data)\n",
    "\n",
    "    def __getitem__(self, idx):\n",
    "        img_name = os.path.join(self.image_dir, self.data.iloc[idx, 0])\n",
    "        image = Image.open(img_name).convert(\"RGB\")\n",
    "        label = self.data.iloc[idx, 1]\n",
    "\n",
    "        if self.transform:\n",
    "            image = self.transform(image)\n",
    "\n",
    "        return image, label"
   ]
  },
  {
   "cell_type": "code",
   "execution_count": 4,
   "id": "eba82d2c-9a30-4d56-96b5-599dd91d5700",
   "metadata": {
    "execution": {
     "iopub.execute_input": "2025-01-23T16:08:06.859819Z",
     "iopub.status.busy": "2025-01-23T16:08:06.858833Z",
     "iopub.status.idle": "2025-01-23T16:08:07.199104Z",
     "shell.execute_reply": "2025-01-23T16:08:07.198348Z",
     "shell.execute_reply.started": "2025-01-23T16:08:06.859770Z"
    }
   },
   "outputs": [],
   "source": [
    "mean = [0.5691, 0.5447, 0.4933]\n",
    "std = [0.1876, 0.1863, 0.1906]\n",
    "\n",
    "transform_train = transforms.Compose([\n",
    "    transforms.RandomHorizontalFlip(),\n",
    "    transforms.RandAugment(),\n",
    "    transforms.ToTensor(),\n",
    "    transforms.Normalize(mean=mean, std=std)\n",
    "])\n",
    "\n",
    "transform_test = transforms.Compose([\n",
    "    transforms.Resize((40, 40)),\n",
    "    transforms.ToTensor(),\n",
    "    transforms.Normalize(mean=mean, std=std)\n",
    "])\n",
    "\n",
    "full_train_dataset = ImageDataset(labels_csv=train_labels_csv, image_dir=train_image_dir, transform=transform_train)\n",
    "\n",
    "labels_df = pd.read_csv(train_labels_csv)\n",
    "labels = labels_df['Category'].values\n",
    "\n",
    "train_idx, validation_idx = train_test_split(np.arange(len(labels)),\n",
    "                                             test_size=0.05,\n",
    "                                             random_state=42,\n",
    "                                             shuffle=True,\n",
    "                                             stratify=labels)\n",
    "\n",
    "train_dataset = Subset(full_train_dataset, train_idx)\n",
    "val_dataset = Subset(full_train_dataset, validation_idx)\n",
    "\n",
    "train_loader = DataLoader(train_dataset, batch_size=256, shuffle=True, num_workers=2, prefetch_factor=2, pin_memory=True)\n",
    "val_loader = DataLoader(val_dataset, batch_size=256, shuffle=False, num_workers=2, prefetch_factor=2, pin_memory=True)\n",
    "\n",
    "test_dataset = ImageDataset(labels_csv=sample_submission_csv, image_dir=test_image_dir, transform=transform_test)\n",
    "test_loader = DataLoader(test_dataset, batch_size=256, shuffle=False, num_workers=2, prefetch_factor=2, pin_memory=True)"
   ]
  },
  {
   "cell_type": "code",
   "execution_count": 5,
   "id": "512d8e50-8bf8-4282-87f5-0bc5c48e745f",
   "metadata": {
    "execution": {
     "iopub.execute_input": "2025-01-23T16:08:07.200643Z",
     "iopub.status.busy": "2025-01-23T16:08:07.200074Z",
     "iopub.status.idle": "2025-01-23T16:08:07.229461Z",
     "shell.execute_reply": "2025-01-23T16:08:07.228696Z",
     "shell.execute_reply.started": "2025-01-23T16:08:07.200608Z"
    }
   },
   "outputs": [],
   "source": [
    "class ResidualBlock(nn.Module):\n",
    "    def __init__(self, in_channels, out_channels, stride=1):\n",
    "        super(ResidualBlock, self).__init__()\n",
    "        self.conv1 = nn.Conv2d(in_channels, out_channels, kernel_size=3, stride=stride, padding=1)\n",
    "        self.bn1 = nn.BatchNorm2d(out_channels)\n",
    "        self.conv2 = nn.Conv2d(out_channels, out_channels, kernel_size=3, stride=1, padding=1)\n",
    "        self.bn2 = nn.BatchNorm2d(out_channels)\n",
    "\n",
    "        self.shortcut = nn.Sequential()\n",
    "        if stride != 1 or in_channels != out_channels:\n",
    "            self.shortcut = nn.Sequential(\n",
    "                nn.Conv2d(in_channels, out_channels, kernel_size=1, stride=stride),\n",
    "                nn.BatchNorm2d(out_channels)\n",
    "            )\n",
    "\n",
    "    def forward(self, x):\n",
    "        out = torch.relu(self.bn1(self.conv1(x)))\n",
    "        out = self.bn2(self.conv2(out))\n",
    "        out += self.shortcut(x)\n",
    "        return torch.relu(out)\n",
    "\n",
    "class EnhancedResNet(nn.Module):\n",
    "    def __init__(self, num_classes):\n",
    "        super(EnhancedResNet, self).__init__()\n",
    "        self.initial_layer = nn.Sequential(\n",
    "            nn.Conv2d(3, 64, kernel_size=3, stride=1, padding=1),\n",
    "            nn.BatchNorm2d(64),\n",
    "            nn.ReLU()\n",
    "        )\n",
    "\n",
    "        self.layer1 = self._make_layer(64, 128, num_blocks=3, stride=1)\n",
    "        self.layer2 = self._make_layer(128, 256, num_blocks=4, stride=2)\n",
    "        self.layer3 = self._make_layer(256, 512, num_blocks=6, stride=2)\n",
    "\n",
    "        self.global_avg_pool = nn.AdaptiveAvgPool2d((1, 1))\n",
    "        self.fc = nn.Sequential(\n",
    "            nn.Dropout(0.5),\n",
    "            nn.Linear(512, num_classes)\n",
    "        )\n",
    "\n",
    "    def _make_layer(self, in_channels, out_channels, num_blocks, stride):\n",
    "        layers = []\n",
    "        for i in range(num_blocks):\n",
    "            layers.append(ResidualBlock(\n",
    "                in_channels if i == 0 else out_channels, \n",
    "                out_channels, \n",
    "                stride if i == 0 else 1\n",
    "            ))\n",
    "        return nn.Sequential(*layers)\n",
    "\n",
    "    def forward(self, x):\n",
    "        x = self.initial_layer(x)\n",
    "        x = self.layer1(x)\n",
    "        x = self.layer2(x)\n",
    "        x = self.layer3(x)\n",
    "        x = self.global_avg_pool(x)\n",
    "        x = x.view(x.size(0), -1)\n",
    "        x = self.fc(x)\n",
    "        return x"
   ]
  },
  {
   "cell_type": "code",
   "execution_count": 6,
   "id": "bfb1c951-e594-476f-b774-f4c2567ae162",
   "metadata": {
    "execution": {
     "iopub.execute_input": "2025-01-23T16:08:07.230782Z",
     "iopub.status.busy": "2025-01-23T16:08:07.230393Z",
     "iopub.status.idle": "2025-01-23T16:08:07.259941Z",
     "shell.execute_reply": "2025-01-23T16:08:07.258964Z",
     "shell.execute_reply.started": "2025-01-23T16:08:07.230749Z"
    }
   },
   "outputs": [],
   "source": [
    "def initialize_weights(model):\n",
    "    for m in model.modules():\n",
    "        if isinstance(m, nn.Conv2d):\n",
    "            nn.init.kaiming_normal_(m.weight, mode='fan_out', nonlinearity='relu')\n",
    "        elif isinstance(m, nn.BatchNorm2d):\n",
    "            nn.init.constant_(m.weight, 1)\n",
    "            nn.init.constant_(m.bias, 0)\n",
    "        elif isinstance(m, nn.Linear):\n",
    "            nn.init.normal_(m.weight, 0, 0.01)\n",
    "            nn.init.constant_(m.bias, 0)"
   ]
  },
  {
   "cell_type": "code",
   "execution_count": null,
   "id": "2de3a926-c555-44c4-a7f3-27ef0c6eae84",
   "metadata": {
    "execution": {
     "iopub.execute_input": "2025-01-23T16:08:07.262383Z",
     "iopub.status.busy": "2025-01-23T16:08:07.261320Z",
     "iopub.status.idle": "2025-01-23T19:08:26.493169Z"
    },
    "tags": []
   },
   "outputs": [
    {
     "name": "stderr",
     "output_type": "stream",
     "text": [
      "Epoch 1/22: 100%|██████████| 372/372 [08:02<00:00,  1.30s/it]\n"
     ]
    },
    {
     "name": "stdout",
     "output_type": "stream",
     "text": [
      "Epoch 1: Train Accuracy: 0.0309, Validation Accuracy: 0.0600\n"
     ]
    },
    {
     "name": "stderr",
     "output_type": "stream",
     "text": [
      "Epoch 2/22: 100%|██████████| 372/372 [08:07<00:00,  1.31s/it]\n"
     ]
    },
    {
     "name": "stdout",
     "output_type": "stream",
     "text": [
      "Epoch 2: Train Accuracy: 0.0418, Validation Accuracy: 0.0624\n"
     ]
    },
    {
     "name": "stderr",
     "output_type": "stream",
     "text": [
      "Epoch 3/22: 100%|██████████| 372/372 [08:08<00:00,  1.31s/it]\n"
     ]
    },
    {
     "name": "stdout",
     "output_type": "stream",
     "text": [
      "Epoch 3: Train Accuracy: 0.0750, Validation Accuracy: 0.1060\n"
     ]
    },
    {
     "name": "stderr",
     "output_type": "stream",
     "text": [
      "Epoch 4/22: 100%|██████████| 372/372 [08:08<00:00,  1.31s/it]\n"
     ]
    },
    {
     "name": "stdout",
     "output_type": "stream",
     "text": [
      "Epoch 4: Train Accuracy: 0.1127, Validation Accuracy: 0.0920\n"
     ]
    },
    {
     "name": "stderr",
     "output_type": "stream",
     "text": [
      "Epoch 5/22: 100%|██████████| 372/372 [08:07<00:00,  1.31s/it]\n"
     ]
    },
    {
     "name": "stdout",
     "output_type": "stream",
     "text": [
      "Epoch 5: Train Accuracy: 0.1477, Validation Accuracy: 0.1648\n"
     ]
    },
    {
     "name": "stderr",
     "output_type": "stream",
     "text": [
      "Epoch 6/22: 100%|██████████| 372/372 [08:05<00:00,  1.30s/it]\n"
     ]
    },
    {
     "name": "stdout",
     "output_type": "stream",
     "text": [
      "Epoch 6: Train Accuracy: 0.1863, Validation Accuracy: 0.2056\n"
     ]
    },
    {
     "name": "stderr",
     "output_type": "stream",
     "text": [
      "Epoch 7/22: 100%|██████████| 372/372 [08:04<00:00,  1.30s/it]\n"
     ]
    },
    {
     "name": "stdout",
     "output_type": "stream",
     "text": [
      "Epoch 7: Train Accuracy: 0.2184, Validation Accuracy: 0.2382\n"
     ]
    },
    {
     "name": "stderr",
     "output_type": "stream",
     "text": [
      "Epoch 8/22: 100%|██████████| 372/372 [08:03<00:00,  1.30s/it]\n"
     ]
    },
    {
     "name": "stdout",
     "output_type": "stream",
     "text": [
      "Epoch 8: Train Accuracy: 0.2426, Validation Accuracy: 0.2672\n"
     ]
    },
    {
     "name": "stderr",
     "output_type": "stream",
     "text": [
      "Epoch 9/22: 100%|██████████| 372/372 [08:03<00:00,  1.30s/it]\n"
     ]
    },
    {
     "name": "stdout",
     "output_type": "stream",
     "text": [
      "Epoch 9: Train Accuracy: 0.2714, Validation Accuracy: 0.2726\n"
     ]
    },
    {
     "name": "stderr",
     "output_type": "stream",
     "text": [
      "Epoch 10/22: 100%|██████████| 372/372 [08:02<00:00,  1.30s/it]\n"
     ]
    },
    {
     "name": "stdout",
     "output_type": "stream",
     "text": [
      "Epoch 10: Train Accuracy: 0.2980, Validation Accuracy: 0.2916\n"
     ]
    },
    {
     "name": "stderr",
     "output_type": "stream",
     "text": [
      "Epoch 11/22: 100%|██████████| 372/372 [08:01<00:00,  1.29s/it]\n"
     ]
    },
    {
     "name": "stdout",
     "output_type": "stream",
     "text": [
      "Epoch 11: Train Accuracy: 0.3169, Validation Accuracy: 0.3238\n"
     ]
    },
    {
     "name": "stderr",
     "output_type": "stream",
     "text": [
      "Epoch 12/22: 100%|██████████| 372/372 [08:01<00:00,  1.29s/it]\n"
     ]
    },
    {
     "name": "stdout",
     "output_type": "stream",
     "text": [
      "Epoch 12: Train Accuracy: 0.3485, Validation Accuracy: 0.3462\n"
     ]
    },
    {
     "name": "stderr",
     "output_type": "stream",
     "text": [
      "Epoch 13/22: 100%|██████████| 372/372 [08:01<00:00,  1.29s/it]\n"
     ]
    },
    {
     "name": "stdout",
     "output_type": "stream",
     "text": [
      "Epoch 13: Train Accuracy: 0.3819, Validation Accuracy: 0.3548\n"
     ]
    },
    {
     "name": "stderr",
     "output_type": "stream",
     "text": [
      "Epoch 14/22: 100%|██████████| 372/372 [08:01<00:00,  1.29s/it]\n"
     ]
    },
    {
     "name": "stdout",
     "output_type": "stream",
     "text": [
      "Epoch 14: Train Accuracy: 0.4096, Validation Accuracy: 0.3832\n"
     ]
    },
    {
     "name": "stderr",
     "output_type": "stream",
     "text": [
      "Epoch 15/22: 100%|██████████| 372/372 [08:01<00:00,  1.29s/it]\n"
     ]
    },
    {
     "name": "stdout",
     "output_type": "stream",
     "text": [
      "Epoch 15: Train Accuracy: 0.4428, Validation Accuracy: 0.3954\n"
     ]
    },
    {
     "name": "stderr",
     "output_type": "stream",
     "text": [
      "Epoch 16/22: 100%|██████████| 372/372 [08:01<00:00,  1.29s/it]\n"
     ]
    },
    {
     "name": "stdout",
     "output_type": "stream",
     "text": [
      "Epoch 16: Train Accuracy: 0.4749, Validation Accuracy: 0.4264\n"
     ]
    },
    {
     "name": "stderr",
     "output_type": "stream",
     "text": [
      "Epoch 17/22: 100%|██████████| 372/372 [08:01<00:00,  1.29s/it]\n"
     ]
    },
    {
     "name": "stdout",
     "output_type": "stream",
     "text": [
      "Epoch 17: Train Accuracy: 0.5117, Validation Accuracy: 0.4422\n"
     ]
    },
    {
     "name": "stderr",
     "output_type": "stream",
     "text": [
      "Epoch 18/22: 100%|██████████| 372/372 [08:01<00:00,  1.29s/it]\n"
     ]
    },
    {
     "name": "stdout",
     "output_type": "stream",
     "text": [
      "Epoch 18: Train Accuracy: 0.5484, Validation Accuracy: 0.4570\n"
     ]
    },
    {
     "name": "stderr",
     "output_type": "stream",
     "text": [
      "Epoch 19/22: 100%|██████████| 372/372 [08:01<00:00,  1.29s/it]\n"
     ]
    },
    {
     "name": "stdout",
     "output_type": "stream",
     "text": [
      "Epoch 19: Train Accuracy: 0.5890, Validation Accuracy: 0.4672\n"
     ]
    },
    {
     "name": "stderr",
     "output_type": "stream",
     "text": [
      "Epoch 20/22: 100%|██████████| 372/372 [08:01<00:00,  1.29s/it]\n"
     ]
    },
    {
     "name": "stdout",
     "output_type": "stream",
     "text": [
      "Epoch 20: Train Accuracy: 0.6298, Validation Accuracy: 0.4740\n"
     ]
    },
    {
     "name": "stderr",
     "output_type": "stream",
     "text": [
      "Epoch 21/22: 100%|██████████| 372/372 [08:01<00:00,  1.29s/it]\n"
     ]
    },
    {
     "name": "stdout",
     "output_type": "stream",
     "text": [
      "Epoch 21: Train Accuracy: 0.6607, Validation Accuracy: 0.4754\n"
     ]
    },
    {
     "name": "stderr",
     "output_type": "stream",
     "text": [
      "Epoch 22/22: 100%|██████████| 372/372 [08:01<00:00,  1.29s/it]\n"
     ]
    },
    {
     "name": "stdout",
     "output_type": "stream",
     "text": [
      "Epoch 22: Train Accuracy: 0.6614, Validation Accuracy: 0.4782\n"
     ]
    }
   ],
   "source": [
    "device = torch.device(\"cuda\" if torch.cuda.is_available() else \"cpu\")\n",
    "num_classes = len(pd.read_csv(train_labels_csv)['Category'].unique())\n",
    "model = EnhancedResNet(num_classes=num_classes).to(device)\n",
    "initialize_weights(model)\n",
    "\n",
    "criterion = nn.CrossEntropyLoss(label_smoothing=0.1)\n",
    "# optimizer1 = optim.AdamW(model.parameters(), lr=1e-3, weight_decay=1e-4)\n",
    "# scheduler1 = CyclicLR(optimizer1, base_lr=1e-4, max_lr=1e-2, step_size_up=10, mode='triangular2', cycle_momentum=False)\n",
    "# optimizer2 = optim.SGD(model.parameters(), lr=1e-3, momentum=0.9, weight_decay=1e-4)\n",
    "# scheduler2 = ReduceLROnPlateau(optimizer2, patience=7)\n",
    "\n",
    "optimizer1 = optim.AdamW(model.parameters(), lr=1e-3, weight_decay=1e-4)\n",
    "scheduler1 = CyclicLR(optimizer1, base_lr=1e-4, max_lr=1e-2, step_size_up=10, mode='triangular2', cycle_momentum=False)\n",
    "optimizer2 = optim.SGD(model.parameters(), lr=1e-3, momentum=0.9, weight_decay=1e-4)\n",
    "scheduler2 = ReduceLROnPlateau(optimizer2, patience=7)\n",
    "\n",
    "num_epochs_stage1 = 22\n",
    "num_epochs_stage2 = 13\n",
    "train_accuracies = []\n",
    "val_accuracies = []\n",
    "\n",
    "for epoch in range(num_epochs_stage1):\n",
    "    model.train()\n",
    "    correct_train, total_train = 0, 0\n",
    "\n",
    "    for images, labels in tqdm(train_loader, desc=f\"Epoch {epoch+1}/{num_epochs_stage1}\"):\n",
    "        images, labels = images.to(device), labels.to(device)\n",
    "\n",
    "        optimizer1.zero_grad()\n",
    "        outputs = model(images)\n",
    "        loss = criterion(outputs, labels)\n",
    "        loss.backward()\n",
    "        optimizer1.step()\n",
    "\n",
    "        _, preds = torch.max(outputs, 1)\n",
    "        correct_train += (preds == labels).sum().item()\n",
    "        total_train += labels.size(0)\n",
    "\n",
    "    train_accuracy = correct_train / total_train\n",
    "    train_accuracies.append(train_accuracy)\n",
    "    scheduler1.step()\n",
    "\n",
    "    model.eval()\n",
    "    correct_val, total_val = 0, 0\n",
    "    with torch.no_grad():\n",
    "        for images, labels in val_loader:\n",
    "            images, labels = images.to(device), labels.to(device)\n",
    "            outputs = model(images)\n",
    "            _, preds = torch.max(outputs, 1)\n",
    "            correct_val += (preds == labels).sum().item()\n",
    "            total_val += labels.size(0)\n",
    "\n",
    "    val_accuracy = correct_val / total_val\n",
    "    val_accuracies.append(val_accuracy)\n",
    "    print(f\"Epoch {epoch+1}: Train Accuracy: {train_accuracy:.4f}, Validation Accuracy: {val_accuracy:.4f}\")"
   ]
  },
  {
   "cell_type": "code",
   "execution_count": 10,
   "id": "689b7909-47f1-4517-aa19-a7b34f695374",
   "metadata": {
    "execution": {
     "iopub.execute_input": "2025-01-23T19:09:07.371505Z",
     "iopub.status.busy": "2025-01-23T19:09:07.370519Z",
     "iopub.status.idle": "2025-01-23T20:06:08.779849Z",
     "shell.execute_reply": "2025-01-23T20:06:08.777065Z",
     "shell.execute_reply.started": "2025-01-23T19:09:07.371460Z"
    },
    "tags": []
   },
   "outputs": [
    {
     "name": "stderr",
     "output_type": "stream",
     "text": [
      "Epoch 23/35: 100%|██████████| 372/372 [07:58<00:00,  1.29s/it]\n"
     ]
    },
    {
     "name": "stdout",
     "output_type": "stream",
     "text": [
      "Epoch 23: Train Accuracy: 0.6818, Validation Accuracy: 0.4822\n"
     ]
    },
    {
     "name": "stderr",
     "output_type": "stream",
     "text": [
      "Epoch 24/35: 100%|██████████| 372/372 [08:00<00:00,  1.29s/it]\n"
     ]
    },
    {
     "name": "stdout",
     "output_type": "stream",
     "text": [
      "Epoch 24: Train Accuracy: 0.6814, Validation Accuracy: 0.4828\n"
     ]
    },
    {
     "name": "stderr",
     "output_type": "stream",
     "text": [
      "Epoch 25/35: 100%|██████████| 372/372 [08:00<00:00,  1.29s/it]\n"
     ]
    },
    {
     "name": "stdout",
     "output_type": "stream",
     "text": [
      "Epoch 25: Train Accuracy: 0.6798, Validation Accuracy: 0.4816\n"
     ]
    },
    {
     "name": "stderr",
     "output_type": "stream",
     "text": [
      "Epoch 26/35: 100%|██████████| 372/372 [08:00<00:00,  1.29s/it]\n"
     ]
    },
    {
     "name": "stdout",
     "output_type": "stream",
     "text": [
      "Epoch 26: Train Accuracy: 0.6813, Validation Accuracy: 0.4826\n"
     ]
    },
    {
     "name": "stderr",
     "output_type": "stream",
     "text": [
      "Epoch 27/35: 100%|██████████| 372/372 [07:59<00:00,  1.29s/it]\n"
     ]
    },
    {
     "name": "stdout",
     "output_type": "stream",
     "text": [
      "Epoch 27: Train Accuracy: 0.6815, Validation Accuracy: 0.4800\n"
     ]
    },
    {
     "name": "stderr",
     "output_type": "stream",
     "text": [
      "Epoch 28/35: 100%|██████████| 372/372 [08:00<00:00,  1.29s/it]\n"
     ]
    },
    {
     "name": "stdout",
     "output_type": "stream",
     "text": [
      "Epoch 28: Train Accuracy: 0.6821, Validation Accuracy: 0.4800\n"
     ]
    },
    {
     "name": "stderr",
     "output_type": "stream",
     "text": [
      "Epoch 29/35: 100%|██████████| 372/372 [07:59<00:00,  1.29s/it]\n"
     ]
    },
    {
     "name": "stdout",
     "output_type": "stream",
     "text": [
      "Epoch 29: Train Accuracy: 0.6833, Validation Accuracy: 0.4862\n"
     ]
    },
    {
     "name": "stderr",
     "output_type": "stream",
     "text": [
      "Epoch 30/35:   0%|          | 1/372 [00:02<17:47,  2.88s/it]\n"
     ]
    },
    {
     "ename": "KeyboardInterrupt",
     "evalue": "",
     "output_type": "error",
     "traceback": [
      "\u001b[0;31m---------------------------------------------------------------------------\u001b[0m",
      "\u001b[0;31mKeyboardInterrupt\u001b[0m                         Traceback (most recent call last)",
      "\u001b[0;32m/tmp/ipykernel_2636/4279764362.py\u001b[0m in \u001b[0;36m<cell line: 1>\u001b[0;34m()\u001b[0m\n\u001b[1;32m     13\u001b[0m \u001b[0;34m\u001b[0m\u001b[0m\n\u001b[1;32m     14\u001b[0m         \u001b[0m_\u001b[0m\u001b[0;34m,\u001b[0m \u001b[0mpreds\u001b[0m \u001b[0;34m=\u001b[0m \u001b[0mtorch\u001b[0m\u001b[0;34m.\u001b[0m\u001b[0mmax\u001b[0m\u001b[0;34m(\u001b[0m\u001b[0moutputs\u001b[0m\u001b[0;34m,\u001b[0m \u001b[0;36m1\u001b[0m\u001b[0;34m)\u001b[0m\u001b[0;34m\u001b[0m\u001b[0;34m\u001b[0m\u001b[0m\n\u001b[0;32m---> 15\u001b[0;31m         \u001b[0mcorrect_train\u001b[0m \u001b[0;34m+=\u001b[0m \u001b[0;34m(\u001b[0m\u001b[0mpreds\u001b[0m \u001b[0;34m==\u001b[0m \u001b[0mlabels\u001b[0m\u001b[0;34m)\u001b[0m\u001b[0;34m.\u001b[0m\u001b[0msum\u001b[0m\u001b[0;34m(\u001b[0m\u001b[0;34m)\u001b[0m\u001b[0;34m.\u001b[0m\u001b[0mitem\u001b[0m\u001b[0;34m(\u001b[0m\u001b[0;34m)\u001b[0m\u001b[0;34m\u001b[0m\u001b[0;34m\u001b[0m\u001b[0m\n\u001b[0m\u001b[1;32m     16\u001b[0m         \u001b[0mtotal_train\u001b[0m \u001b[0;34m+=\u001b[0m \u001b[0mlabels\u001b[0m\u001b[0;34m.\u001b[0m\u001b[0msize\u001b[0m\u001b[0;34m(\u001b[0m\u001b[0;36m0\u001b[0m\u001b[0;34m)\u001b[0m\u001b[0;34m\u001b[0m\u001b[0;34m\u001b[0m\u001b[0m\n\u001b[1;32m     17\u001b[0m \u001b[0;34m\u001b[0m\u001b[0m\n",
      "\u001b[0;31mKeyboardInterrupt\u001b[0m: "
     ]
    }
   ],
   "source": [
    "for epoch in range(7):\n",
    "    model.train()\n",
    "    correct_train, total_train = 0, 0\n",
    "\n",
    "    for images, labels in tqdm(train_loader, desc=f\"Epoch {epoch+1}/{num_epochs_stage1 + num_epochs_stage2}\"):\n",
    "        images, labels = images.to(device), labels.to(device)\n",
    "\n",
    "        optimizer2.zero_grad()\n",
    "        outputs = model(images)\n",
    "        loss = criterion(outputs, labels)\n",
    "        loss.backward()\n",
    "        optimizer2.step()\n",
    "\n",
    "        _, preds = torch.max(outputs, 1)\n",
    "        correct_train += (preds == labels).sum().item()\n",
    "        total_train += labels.size(0)\n",
    "\n",
    "    train_accuracy = correct_train / total_train\n",
    "    train_accuracies.append(train_accuracy)\n",
    "\n",
    "    model.eval()\n",
    "    correct_val, total_val, val_loss = 0, 0, 0\n",
    "    with torch.no_grad():\n",
    "        for images, labels in val_loader:\n",
    "            images, labels = images.to(device), labels.to(device)\n",
    "            outputs = model(images)\n",
    "            _, preds = torch.max(outputs, 1)\n",
    "            correct_val += (preds == labels).sum().item()\n",
    "            total_val += labels.size(0)\n",
    "            v_loss = criterion(outputs, labels)\n",
    "\n",
    "        val_loss += v_loss.item() * images.shape[0]\n",
    "\n",
    "    val_loss /= len(val_loader.dataset)\n",
    "    scheduler2.step(val_loss)\n",
    "\n",
    "    val_accuracy = correct_val / total_val\n",
    "    val_accuracies.append(val_accuracy)\n",
    "    print(f\"Epoch {epoch+1}: Train Accuracy: {train_accuracy:.4f}, Validation Accuracy: {val_accuracy:.4f}\")"
   ]
  },
  {
   "cell_type": "code",
   "execution_count": 12,
   "id": "7f1fe788-5db2-4908-b16f-38c65108fad6",
   "metadata": {
    "execution": {
     "iopub.execute_input": "2025-01-23T20:06:47.235191Z",
     "iopub.status.busy": "2025-01-23T20:06:47.234142Z",
     "iopub.status.idle": "2025-01-23T20:47:34.941329Z",
     "shell.execute_reply": "2025-01-23T20:47:34.940526Z",
     "shell.execute_reply.started": "2025-01-23T20:06:47.235138Z"
    }
   },
   "outputs": [
    {
     "name": "stderr",
     "output_type": "stream",
     "text": [
      "Epoch 1/22: 100%|██████████| 372/372 [08:00<00:00,  1.29s/it]\n"
     ]
    },
    {
     "name": "stdout",
     "output_type": "stream",
     "text": [
      "Epoch 1: Train Accuracy: 0.6659, Validation Accuracy: 0.4744\n"
     ]
    },
    {
     "name": "stderr",
     "output_type": "stream",
     "text": [
      "Epoch 2/22: 100%|██████████| 372/372 [08:01<00:00,  1.29s/it]\n"
     ]
    },
    {
     "name": "stdout",
     "output_type": "stream",
     "text": [
      "Epoch 2: Train Accuracy: 0.6680, Validation Accuracy: 0.4710\n"
     ]
    },
    {
     "name": "stderr",
     "output_type": "stream",
     "text": [
      "Epoch 3/22: 100%|██████████| 372/372 [08:01<00:00,  1.29s/it]\n"
     ]
    },
    {
     "name": "stdout",
     "output_type": "stream",
     "text": [
      "Epoch 3: Train Accuracy: 0.6687, Validation Accuracy: 0.4734\n"
     ]
    },
    {
     "name": "stderr",
     "output_type": "stream",
     "text": [
      "Epoch 4/22: 100%|██████████| 372/372 [08:01<00:00,  1.29s/it]\n"
     ]
    },
    {
     "name": "stdout",
     "output_type": "stream",
     "text": [
      "Epoch 4: Train Accuracy: 0.6717, Validation Accuracy: 0.4642\n"
     ]
    },
    {
     "name": "stderr",
     "output_type": "stream",
     "text": [
      "Epoch 5/22: 100%|██████████| 372/372 [08:01<00:00,  1.29s/it]\n"
     ]
    },
    {
     "name": "stdout",
     "output_type": "stream",
     "text": [
      "Epoch 5: Train Accuracy: 0.6732, Validation Accuracy: 0.4464\n"
     ]
    }
   ],
   "source": [
    "for epoch in range(5):\n",
    "    model.train()\n",
    "    correct_train, total_train = 0, 0\n",
    "\n",
    "    for images, labels in tqdm(train_loader, desc=f\"Epoch {epoch+1}/{num_epochs_stage1}\"):\n",
    "        images, labels = images.to(device), labels.to(device)\n",
    "\n",
    "        optimizer1.zero_grad()\n",
    "        outputs = model(images)\n",
    "        loss = criterion(outputs, labels)\n",
    "        loss.backward()\n",
    "        optimizer1.step()\n",
    "\n",
    "        _, preds = torch.max(outputs, 1)\n",
    "        correct_train += (preds == labels).sum().item()\n",
    "        total_train += labels.size(0)\n",
    "\n",
    "    train_accuracy = correct_train / total_train\n",
    "    train_accuracies.append(train_accuracy)\n",
    "    scheduler1.step()\n",
    "\n",
    "    model.eval()\n",
    "    correct_val, total_val = 0, 0\n",
    "    with torch.no_grad():\n",
    "        for images, labels in val_loader:\n",
    "            images, labels = images.to(device), labels.to(device)\n",
    "            outputs = model(images)\n",
    "            _, preds = torch.max(outputs, 1)\n",
    "            correct_val += (preds == labels).sum().item()\n",
    "            total_val += labels.size(0)\n",
    "\n",
    "    val_accuracy = correct_val / total_val\n",
    "    val_accuracies.append(val_accuracy)\n",
    "    print(f\"Epoch {epoch+1}: Train Accuracy: {train_accuracy:.4f}, Validation Accuracy: {val_accuracy:.4f}\")"
   ]
  },
  {
   "cell_type": "code",
   "execution_count": 11,
   "id": "47fd0a3b-3609-4d3f-bfbd-45ae78736d15",
   "metadata": {
    "execution": {
     "iopub.execute_input": "2025-01-23T20:06:26.410698Z",
     "iopub.status.busy": "2025-01-23T20:06:26.409684Z",
     "iopub.status.idle": "2025-01-23T20:06:42.793674Z",
     "shell.execute_reply": "2025-01-23T20:06:42.792862Z",
     "shell.execute_reply.started": "2025-01-23T20:06:26.410649Z"
    },
    "tags": []
   },
   "outputs": [
    {
     "name": "stderr",
     "output_type": "stream",
     "text": [
      "100%|██████████| 40/40 [00:16<00:00,  2.45it/s]"
     ]
    },
    {
     "name": "stdout",
     "output_type": "stream",
     "text": [
      "Predictions saved to labels_test.csv\n"
     ]
    },
    {
     "name": "stderr",
     "output_type": "stream",
     "text": [
      "\n"
     ]
    }
   ],
   "source": [
    "model.eval()\n",
    "predictions = []\n",
    "with torch.no_grad():\n",
    "    for images, _ in tqdm(test_loader):\n",
    "        images = images.to(device)\n",
    "        outputs = model(images)\n",
    "        _, preds = torch.max(outputs, 1)\n",
    "        predictions.extend(preds.cpu().numpy())\n",
    "\n",
    "submission = pd.read_csv(sample_submission_csv)\n",
    "submission['Category'] = predictions\n",
    "submission.to_csv('labels_test1.csv', index=False)\n",
    "print(\"Predictions saved to labels_test.csv\")"
   ]
  },
  {
   "cell_type": "code",
   "execution_count": null,
   "id": "a1bd3ca3-ade5-4d61-99d7-2d8ad5aef9ac",
   "metadata": {},
   "outputs": [],
   "source": []
  }
 ],
 "metadata": {
  "kernelspec": {
   "display_name": "DataSphere Kernel",
   "language": "python",
   "name": "python3"
  },
  "language_info": {
   "codemirror_mode": {
    "name": "ipython",
    "version": 3
   },
   "file_extension": ".py",
   "mimetype": "text/x-python",
   "name": "python",
   "nbconvert_exporter": "python",
   "pygments_lexer": "ipython3",
   "version": "3.10.12"
  }
 },
 "nbformat": 4,
 "nbformat_minor": 5
}
