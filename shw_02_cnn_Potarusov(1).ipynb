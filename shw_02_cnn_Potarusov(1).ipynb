{
  "cells": [
    {
      "cell_type": "markdown",
      "metadata": {
        "id": "w35Q6hOIy4sk",
        "pycharm": {
          "name": "#%% md\n"
        }
      },
      "source": [
        "# Глубинное обучение 1 / Введение в глубинное обучение, ФКН ВШЭ\n",
        "\n",
        "## Домашнее задание 2: сверточный классификатор.\n",
        "\n",
        "### Общая информация\n",
        "\n",
        "Оценка после штрафа после мягкого дедлайна вычисляется по формуле $M_{\\text{penalty}} = M_{\\text{full}} \\cdot 0.85^{t/1440}$, где $M_{\\text{full}}$ — полная оценка за работу без учета штрафа, а $t$ — время в минутах, прошедшее после мягкого дедлайна (округление до двух цифр после запятой). Таким образом, спустя первые сутки после мягкого дедлайна вы не можете получить оценку выше 8.5, а если сдать через четыре дня после мягкого дедлайна, то ваш максимум — 5.22 балла.\n",
        "\n",
        "### Оценивание и штрафы\n",
        "\n",
        "Максимально допустимая оценка за работу — 10 баллов. Сдавать задание после указанного срока сдачи нельзя.\n",
        "\n",
        "Задание выполняется самостоятельно. «Похожие» решения считаются плагиатом и все задействованные студенты (в том числе те, у кого списали) не могут получить за него больше 0 баллов. Если вы нашли решение какого-то из заданий (или его часть) в открытом источнике, необходимо указать ссылку на этот источник в отдельном блоке в конце вашей работы (скорее всего вы будете не единственным, кто это нашел, поэтому чтобы исключить подозрение в плагиате, необходима ссылка на источник).\n",
        "\n",
        "Неэффективная реализация кода может негативно отразиться на оценке. Также оценка может быть снижена за плохо читаемый код и плохо оформленные графики. Все ответы должны сопровождаться кодом или комментариями о том, как они были получены.\n",
        "\n",
        "### О задании\n",
        "\n",
        "В этом задании вам предстоит познакомиться со сверточными сетями и их обучением для классификации изображений с использованием библиотеки PyTorch.\n"
      ]
    },
    {
      "cell_type": "code",
      "execution_count": null,
      "metadata": {
        "id": "SaACifdX2QOo",
        "pycharm": {
          "name": "#%%\n"
        }
      },
      "outputs": [],
      "source": [
        "import torch\n",
        "import torch.nn as nn\n",
        "import torch.nn.functional as F\n",
        "import torch.optim as optim\n",
        "import torchvision\n",
        "import torchvision.transforms as transforms\n",
        "\n",
        "import matplotlib.pyplot as plt\n",
        "import numpy as np\n",
        "\n",
        "from sklearn.model_selection import train_test_split"
      ]
    },
    {
      "cell_type": "markdown",
      "metadata": {
        "id": "TIXaUYM-0JFl",
        "pycharm": {
          "name": "#%% md\n"
        }
      },
      "source": [
        "## 0. Загрузка данных\n",
        "\n",
        "Работать мы будем с набором данных [CIFAR10](https://www.cs.toronto.edu/~kriz/cifar.html). CIFAR10 представляет собой набор изображений 32х32 пикселя, разделенных на 10 классов.\n",
        "\n",
        "![title](https://pytorch.org/tutorials/_images/cifar10.png)\n",
        "\n",
        "\n"
      ]
    },
    {
      "cell_type": "markdown",
      "metadata": {
        "id": "g-0EEjl_10vB",
        "pycharm": {
          "name": "#%% md\n"
        }
      },
      "source": [
        "Набор данных уже определен в <code>torchvision.datasets</code>, так что возьмем его оттуда.\n",
        "\n"
      ]
    },
    {
      "cell_type": "code",
      "execution_count": null,
      "metadata": {
        "id": "Cbwe92dT3aPZ",
        "pycharm": {
          "name": "#%%\n"
        }
      },
      "outputs": [],
      "source": [
        "def get_cifar10_data(batch_size, transform_train):\n",
        "    torch.manual_seed(0)\n",
        "    np.random.seed(0)\n",
        "\n",
        "    transform_test = transforms.Compose(\n",
        "        [transforms.ToTensor(),\n",
        "         # Переводим цвета пикселей в отрезок [-1, 1]\n",
        "         transforms.Normalize((0.5, 0.5, 0.5), (0.5, 0.5, 0.5))]\n",
        "    )\n",
        "\n",
        "    # Загружаем данные\n",
        "    trainvalset = torchvision.datasets.CIFAR10(root='./data', train=True,\n",
        "                                               download=True, transform=transform_train)\n",
        "    testset = torchvision.datasets.CIFAR10(root='./data', train=False,\n",
        "                                           download=True, transform=transform_test)\n",
        "\n",
        "    # В датасете определено разбиение только на train и test,\n",
        "    # так что валидацию дополнительно выделяем из обучающей выборки\n",
        "    train_idx, valid_idx = train_test_split(np.arange(len(trainvalset)), test_size=0.3,\n",
        "                                            shuffle=True, random_state=0)\n",
        "    trainset = torch.utils.data.Subset(trainvalset, train_idx)\n",
        "    valset = torch.utils.data.Subset(trainvalset, valid_idx)\n",
        "\n",
        "    train_loader = torch.utils.data.DataLoader(trainset, batch_size=batch_size,\n",
        "                                               shuffle=True, num_workers=2)\n",
        "    val_loader = torch.utils.data.DataLoader(valset, batch_size=batch_size,\n",
        "                                             shuffle=False, num_workers=2)\n",
        "    test_loader = torch.utils.data.DataLoader(testset, batch_size=batch_size,\n",
        "                                              shuffle=False, num_workers=2)\n",
        "\n",
        "    return train_loader, val_loader, test_loader\n"
      ]
    },
    {
      "cell_type": "code",
      "execution_count": null,
      "metadata": {
        "colab": {
          "base_uri": "https://localhost:8080/"
        },
        "id": "2G2rLnN5y6Jj",
        "outputId": "0b1326fa-cb37-4ec6-8cda-e47707a85ada",
        "pycharm": {
          "name": "#%%\n"
        }
      },
      "outputs": [
        {
          "output_type": "stream",
          "name": "stdout",
          "text": [
            "Downloading https://www.cs.toronto.edu/~kriz/cifar-10-python.tar.gz to ./data/cifar-10-python.tar.gz\n"
          ]
        },
        {
          "output_type": "stream",
          "name": "stderr",
          "text": [
            "100%|██████████| 170M/170M [00:03<00:00, 49.8MB/s]\n"
          ]
        },
        {
          "output_type": "stream",
          "name": "stdout",
          "text": [
            "Extracting ./data/cifar-10-python.tar.gz to ./data\n",
            "Files already downloaded and verified\n"
          ]
        }
      ],
      "source": [
        "transform = transforms.Compose(\n",
        "        [transforms.ToTensor(),\n",
        "         transforms.Normalize((0.5, 0.5, 0.5), (0.5, 0.5, 0.5))]\n",
        ")\n",
        "\n",
        "train_loader, val_loader, test_loader = get_cifar10_data(batch_size=64,\n",
        "                                                         transform_train=transform)"
      ]
    },
    {
      "cell_type": "markdown",
      "metadata": {
        "id": "-82HWgXs77W1",
        "pycharm": {
          "name": "#%% md\n"
        }
      },
      "source": [
        "Посмотрим на изображения:"
      ]
    },
    {
      "cell_type": "code",
      "execution_count": null,
      "metadata": {
        "colab": {
          "base_uri": "https://localhost:8080/",
          "height": 231
        },
        "id": "ACnwaC5iy6L2",
        "outputId": "67312792-acd8-49eb-c9b0-4b1200ab1407",
        "pycharm": {
          "name": "#%%\n"
        }
      },
      "outputs": [
        {
          "output_type": "display_data",
          "data": {
            "text/plain": [
              "<Figure size 640x480 with 1 Axes>"
            ],
            "image/png": "[encoded data removed]"
          },
          "metadata": {}
        },
        {
          "output_type": "stream",
          "name": "stdout",
          "text": [
            "ship frog horse horse\n"
          ]
        }
      ],
      "source": [
        "def imshow(img):\n",
        "    img = img / 2 + 0.5\n",
        "    npimg = img.numpy()\n",
        "    plt.imshow(np.transpose(npimg, (1, 2, 0)))\n",
        "    plt.show()\n",
        "\n",
        "\n",
        "dataiter = iter(train_loader)\n",
        "images, labels = next(dataiter)\n",
        "\n",
        "imshow(torchvision.utils.make_grid(images[:4]))\n",
        "\n",
        "classes = ('plane', 'car', 'bird', 'cat',\n",
        "           'deer', 'dog', 'frog', 'horse', 'ship', 'truck')\n",
        "print(*[classes[labels[i]] for i in range(4)])"
      ]
    },
    {
      "cell_type": "markdown",
      "metadata": {
        "id": "KFDilng29YZ_",
        "pycharm": {
          "name": "#%% md\n"
        }
      },
      "source": [
        "## 1. Задание сверточной сети (3 балла)"
      ]
    },
    {
      "cell_type": "markdown",
      "metadata": {
        "id": "OX7Ul8YbYdQR",
        "pycharm": {
          "name": "#%% md\n"
        }
      },
      "source": [
        "Теперь нам нужно задать сверточную нейронную сеть, которую мы будем обучать классифицировать изображения.\n",
        "\n",
        "Используем сеть, основанную на одном блоке архитектуры ResNet.\n",
        "\n",
        "<img src=\"https://i.ibb.co/2hg962h/basic-block.png\" width=\"500\"/>\n",
        "\n",
        "__Указания:__\n",
        "\n",
        "- Все сверточные слои должны иметь 32 выходных канала, а также не должны изменять ширину и высоту изображения.\n",
        "- Выход блока сократите до размерности 32х4х4, применив average pooling.\n",
        "- Для получения итоговых логитов, распрямите выход пулинга в вектор из 512 элементов, а затем пропустите его через линейный слой."
      ]
    },
    {
      "cell_type": "markdown",
      "metadata": {
        "id": "sbyIylT9O9Dr",
        "pycharm": {
          "name": "#%% md\n"
        }
      },
      "source": [
        "**Задание 1.1 (3 балла).**\n",
        "\n",
        "Определите архитектуру сети соответственно схеме и указаниям выше.\n",
        "\n",
        "Ключевые слова: <code>Conv2d</code>, <code>BatchNorm2d</code>, <code>AvgPool2d</code>."
      ]
    },
    {
      "cell_type": "code",
      "execution_count": null,
      "metadata": {
        "id": "s9ml1QGKy6N9",
        "pycharm": {
          "name": "#%%\n"
        }
      },
      "outputs": [],
      "source": [
        "n_classes = 10\n",
        "\n",
        "class BasicBlockNet(nn.Module):\n",
        "    def __init__(self):\n",
        "        super().__init__()\n",
        "\n",
        "        self.main_branch = nn.Sequential(\n",
        "            nn.Conv2d(3, 32, kernel_size=3, padding=1),\n",
        "            nn.BatchNorm2d(32),\n",
        "            nn.ReLU(),\n",
        "            nn.Conv2d(32, 32, kernel_size=3, padding=1),\n",
        "            nn.BatchNorm2d(32)\n",
        "        )\n",
        "        self.shortcut = nn.Conv2d(in_channels=3, out_channels=32, kernel_size=1)\n",
        "        self.pooling = nn.AvgPool2d(8)\n",
        "        self.linear = nn.Linear(in_features=512, out_features=10)\n",
        "\n",
        "    def forward(self, x):\n",
        "        main_part = self.main_branch(x)\n",
        "        main_part += self.shortcut(x)\n",
        "        out = self.pooling(torch.relu(main_part))\n",
        "        return self.linear(torch.flatten(out, start_dim=1))"
      ]
    },
    {
      "cell_type": "code",
      "execution_count": null,
      "metadata": {
        "id": "FI4BQg7Ky6Pw",
        "pycharm": {
          "name": "#%%\n"
        },
        "colab": {
          "base_uri": "https://localhost:8080/"
        },
        "outputId": "1ae6aa2f-138a-47d4-bb4f-ae500c4d05ec"
      },
      "outputs": [
        {
          "output_type": "execute_result",
          "data": {
            "text/plain": [
              "BasicBlockNet(\n",
              "  (main_branch): Sequential(\n",
              "    (0): Conv2d(3, 32, kernel_size=(3, 3), stride=(1, 1), padding=(1, 1))\n",
              "    (1): BatchNorm2d(32, eps=1e-05, momentum=0.1, affine=True, track_running_stats=True)\n",
              "    (2): ReLU()\n",
              "    (3): Conv2d(32, 32, kernel_size=(3, 3), stride=(1, 1), padding=(1, 1))\n",
              "    (4): BatchNorm2d(32, eps=1e-05, momentum=0.1, affine=True, track_running_stats=True)\n",
              "  )\n",
              "  (shortcut): Conv2d(3, 32, kernel_size=(1, 1), stride=(1, 1))\n",
              "  (pooling): AvgPool2d(kernel_size=8, stride=8, padding=0)\n",
              "  (linear): Linear(in_features=512, out_features=10, bias=True)\n",
              ")"
            ]
          },
          "metadata": {},
          "execution_count": 6
        }
      ],
      "source": [
        "net = BasicBlockNet()\n",
        "net"
      ]
    },
    {
      "cell_type": "markdown",
      "metadata": {
        "id": "igPoGZEub8d3",
        "pycharm": {
          "name": "#%% md\n"
        }
      },
      "source": [
        "Проверим, что выход сети имеет корректную размерность:"
      ]
    },
    {
      "cell_type": "code",
      "execution_count": null,
      "metadata": {
        "id": "cCIzFUpJ_Agw",
        "pycharm": {
          "name": "#%%\n"
        }
      },
      "outputs": [],
      "source": [
        "assert net(torch.zeros((10, 3, 32, 32))).shape == (10, 10)"
      ]
    },
    {
      "cell_type": "markdown",
      "metadata": {
        "id": "08osX622cDGz",
        "pycharm": {
          "name": "#%% md\n"
        }
      },
      "source": [
        "Чтобы проводить вычисления на GPU, в PyTorch необходимо руками перекладывать объекты, с которыми вы хотите проводить вычисления, на графический ускоритель. Это делается следующим образрм:"
      ]
    },
    {
      "cell_type": "code",
      "execution_count": null,
      "metadata": {
        "id": "56hDOMCFcDZX",
        "pycharm": {
          "name": "#%%\n"
        },
        "colab": {
          "base_uri": "https://localhost:8080/"
        },
        "outputId": "c5a28285-8765-42a6-aed9-57f298e5a5b2"
      },
      "outputs": [
        {
          "output_type": "stream",
          "name": "stdout",
          "text": [
            "cpu\n"
          ]
        }
      ],
      "source": [
        "device = torch.device('cuda:0' if torch.cuda.is_available() else 'cpu')\n",
        "print(device)"
      ]
    },
    {
      "cell_type": "code",
      "execution_count": null,
      "metadata": {
        "id": "ohnDWbp0qbtC",
        "pycharm": {
          "name": "#%%\n"
        }
      },
      "outputs": [],
      "source": [
        "net = net.to(device)"
      ]
    },
    {
      "cell_type": "markdown",
      "metadata": {
        "id": "H_bOlTVUp5QF",
        "pycharm": {
          "name": "#%% md\n"
        }
      },
      "source": [
        "Подключение GPU в google.colab:\n",
        "\n",
        "**Среда выполнения** -> **Сменить среду выполнения** -> **Аппаратный ускоритель** -> **GPU**"
      ]
    },
    {
      "cell_type": "markdown",
      "metadata": {
        "id": "AGi6XX_7_Bgg",
        "pycharm": {
          "name": "#%% md\n"
        }
      },
      "source": [
        "## 2. Обучение и тестирование модели (3 балла)"
      ]
    },
    {
      "cell_type": "markdown",
      "metadata": {
        "id": "0agj_MQoO9Ds",
        "pycharm": {
          "name": "#%% md\n"
        }
      },
      "source": [
        "**Задание 2.1 (2 балла).** Переходим к обучению модели. Заполните пропуски в функциях <code>test</code> и <code>train_epoch</code>. В качестве функции потерь будем использовать [кросс-энтропию](https://pytorch.org/docs/stable/generated/torch.nn.functional.cross_entropy.html), а в качестве метрики качества accuracy."
      ]
    },
    {
      "cell_type": "code",
      "execution_count": null,
      "metadata": {
        "id": "g8gsPPRIevDS",
        "pycharm": {
          "name": "#%%\n"
        }
      },
      "outputs": [],
      "source": [
        "def test(model, loader):\n",
        "    loss_log = []\n",
        "    acc_log = []\n",
        "    model.eval()\n",
        "\n",
        "    for data, target in loader:\n",
        "\n",
        "        data = data.to(device)\n",
        "        target = target.to(device)\n",
        "\n",
        "        with torch.no_grad():\n",
        "            logits = model(data)\n",
        "            loss = F.cross_entropy(logits, target)\n",
        "\n",
        "        loss_log.append(loss.item())\n",
        "\n",
        "        acc = (logits.argmax(dim=1) == target).sum() / target.shape[0]\n",
        "        acc_log.append(acc.item())\n",
        "\n",
        "        acc_log.append(acc.item())\n",
        "\n",
        "    return np.mean(loss_log), np.mean(acc_log)\n",
        "\n",
        "def train_epoch(model, optimizer, train_loader):\n",
        "    loss_log = []\n",
        "    acc_log = []\n",
        "    model.train()\n",
        "\n",
        "    for data, target in train_loader:\n",
        "        data = data.to(device)\n",
        "        target = target.to(device)\n",
        "\n",
        "        optimizer.zero_grad()\n",
        "        logits = model(data)\n",
        "        loss = F.cross_entropy(logits, target)\n",
        "        loss.backward()\n",
        "        optimizer.step()\n",
        "\n",
        "        loss_log.append(loss.item())\n",
        "\n",
        "        acc = (logits.argmax(dim=1) == target).sum() / target.shape[0]\n",
        "        acc_log.append(acc.item())\n",
        "\n",
        "        acc_log.append(acc.item())\n",
        "\n",
        "    return loss_log, acc_log\n",
        "\n",
        "def train(model, optimizer, n_epochs, train_loader, val_loader, scheduler=None):\n",
        "    train_loss_log, train_acc_log, val_loss_log, val_acc_log = [], [], [], []\n",
        "\n",
        "    for epoch in range(n_epochs):\n",
        "        train_loss, train_acc = train_epoch(model, optimizer, train_loader)\n",
        "        val_loss, val_acc = test(model, val_loader)\n",
        "\n",
        "        train_loss_log.extend(train_loss)\n",
        "        train_acc_log.extend(train_acc)\n",
        "\n",
        "        val_loss_log.append(val_loss)\n",
        "        val_acc_log.append(val_acc)\n",
        "\n",
        "        print(f\"Epoch {epoch}\")\n",
        "        print(f\" train loss: {np.mean(train_loss)}, train acc: {np.mean(train_acc)}\")\n",
        "        print(f\" val loss: {val_loss}, val acc: {val_acc}\\n\")\n",
        "\n",
        "        if scheduler is not None:\n",
        "            scheduler.step()\n",
        "\n",
        "    return train_loss_log, train_acc_log, val_loss_log, val_acc_log"
      ]
    },
    {
      "cell_type": "markdown",
      "metadata": {
        "id": "iSOqk_CAO9Dt",
        "pycharm": {
          "name": "#%% md\n"
        }
      },
      "source": [
        "Запустим обучение модели. В качестве оптимизатора будем использовать стохастический градиентный спуск, который является де-факто стандартом в задачах компьютерного зрения (наравне с <code>Adam</code>).\n",
        "\n",
        "__Замечание:__ Для достижения наилучшего качества в нашем случае потребуется обучать модель несколько сотен эпох. Однако в целях экономии вашего времени и сил, во всех экспериментах мы ограничимся 20 эпохами."
      ]
    },
    {
      "cell_type": "code",
      "execution_count": null,
      "metadata": {
        "id": "MKZBGhuAgMDu",
        "scrolled": true,
        "pycharm": {
          "name": "#%%\n"
        },
        "colab": {
          "base_uri": "https://localhost:8080/"
        },
        "outputId": "9c7ad16c-a49f-4d7a-f606-9e58ed0c0e10"
      },
      "outputs": [
        {
          "output_type": "stream",
          "name": "stdout",
          "text": [
            "Epoch 0\n",
            " train loss: 1.503102629450601, train acc: 0.4653466962809101\n",
            " val loss: 1.2678370346414283, val acc: 0.5529033688788718\n",
            "\n",
            "Epoch 1\n",
            " train loss: 1.175177334322572, train acc: 0.5878737921906564\n",
            " val loss: 1.1127608532601214, val acc: 0.6128324468085107\n",
            "\n",
            "Epoch 2\n",
            " train loss: 1.0675855100263842, train acc: 0.6300315030967949\n",
            " val loss: 1.0460812659973795, val acc: 0.6313608156873824\n",
            "\n",
            "Epoch 3\n",
            " train loss: 1.0095389249991673, train acc: 0.6462890115690841\n",
            " val loss: 1.0223957987541847, val acc: 0.6449911348363186\n",
            "\n",
            "Epoch 4\n",
            " train loss: 0.9769975988694911, train acc: 0.658400528936543\n",
            " val loss: 1.0198745111201672, val acc: 0.64878102845334\n",
            "\n",
            "Epoch 5\n",
            " train loss: 0.9474165148665308, train acc: 0.6701529446641967\n",
            " val loss: 0.9365947728461408, val acc: 0.6747783688788719\n",
            "\n",
            "Epoch 6\n",
            " train loss: 0.9209349735127507, train acc: 0.680628101394207\n",
            " val loss: 0.9358692821035994, val acc: 0.6773049646235527\n",
            "\n",
            "Epoch 7\n",
            " train loss: 0.901895039151312, train acc: 0.6864063724521309\n",
            " val loss: 0.9427137012177326, val acc: 0.6757757093044038\n",
            "\n",
            "Epoch 8\n",
            " train loss: 0.8788741161226137, train acc: 0.6952900561815641\n",
            " val loss: 0.9204512963903712, val acc: 0.6806072696726373\n",
            "\n",
            "Epoch 9\n",
            " train loss: 0.8666012704481373, train acc: 0.6968162380145281\n",
            " val loss: 0.9076404873360979, val acc: 0.690625\n",
            "\n",
            "Epoch 10\n",
            " train loss: 0.8464547837565106, train acc: 0.7061161530737031\n",
            " val loss: 0.9053154186999545, val acc: 0.6847296100981692\n",
            "\n",
            "Epoch 11\n",
            " train loss: 0.8339342478206432, train acc: 0.7097520567817269\n",
            " val loss: 0.8733652505468815, val acc: 0.6971852837724889\n",
            "\n",
            "Epoch 12\n",
            " train loss: 0.827336017948182, train acc: 0.713473655079139\n",
            " val loss: 0.8800155441811744, val acc: 0.6976728723404255\n",
            "\n",
            "Epoch 13\n",
            " train loss: 0.8120738505990239, train acc: 0.7180726038908392\n",
            " val loss: 0.9007331455007512, val acc: 0.6952570922831272\n",
            "\n",
            "Epoch 14\n",
            " train loss: 0.8023052426971073, train acc: 0.7211331288165105\n",
            " val loss: 0.9215349846697868, val acc: 0.6907136526513606\n",
            "\n",
            "Epoch 15\n",
            " train loss: 0.7937461355159662, train acc: 0.7254913162705667\n",
            " val loss: 0.8720366140629383, val acc: 0.7054964539852548\n",
            "\n",
            "Epoch 16\n",
            " train loss: 0.7852692938047092, train acc: 0.7286742622717207\n",
            " val loss: 0.8854073455993166, val acc: 0.6982934398854033\n",
            "\n",
            "Epoch 17\n",
            " train loss: 0.7792229965138479, train acc: 0.729098655079139\n",
            " val loss: 0.8891040667574457, val acc: 0.6961657803109351\n",
            "\n",
            "Epoch 18\n",
            " train loss: 0.7668135752407681, train acc: 0.7338404283880969\n",
            " val loss: 0.8764305259319062, val acc: 0.7011081561129144\n",
            "\n",
            "Epoch 19\n",
            " train loss: 0.7656568427190484, train acc: 0.7332936146141624\n",
            " val loss: 0.8945547215482021, val acc: 0.6912455675449777\n",
            "\n"
          ]
        }
      ],
      "source": [
        "optimizer = optim.SGD(net.parameters(), lr=0.1, momentum=0.9)\n",
        "train_loss_log, train_acc_log, val_loss_log, val_acc_log = train(net, optimizer, 20, train_loader, val_loader)"
      ]
    },
    {
      "cell_type": "markdown",
      "metadata": {
        "id": "gUb1jQW8O9Dt",
        "pycharm": {
          "name": "#%% md\n"
        }
      },
      "source": [
        "Посчитайте точность на тестовой выборке:"
      ]
    },
    {
      "cell_type": "code",
      "execution_count": null,
      "metadata": {
        "id": "Jyuc55B9_Amc",
        "pycharm": {
          "name": "#%%\n"
        },
        "colab": {
          "base_uri": "https://localhost:8080/"
        },
        "outputId": "f83f5075-c13d-47c8-ef2a-e24af90751fe"
      },
      "outputs": [
        {
          "output_type": "stream",
          "name": "stdout",
          "text": [
            "loss = 0.9155338243314415, accuracy = 0.6814291401273885\n"
          ]
        }
      ],
      "source": [
        "loss, accuracy = test(net, test_loader)\n",
        "print(f'loss = {loss}, accuracy = {accuracy}')"
      ]
    },
    {
      "cell_type": "markdown",
      "metadata": {
        "id": "zM38Q9fwO9Dt",
        "pycharm": {
          "name": "#%% md\n"
        }
      },
      "source": [
        "Если вы все сделали правильно, у вас должна была получиться точность $\\ge 67\\%$."
      ]
    },
    {
      "cell_type": "markdown",
      "metadata": {
        "id": "DHFNSKcoO9Dt",
        "pycharm": {
          "name": "#%% md\n"
        }
      },
      "source": [
        "**Задание 2.2 (1 балл).** Постройте графики зависимости функции потерь и точности классификации от номера шага оптимизатора. На каждом графике расположите данные и для обучающей и для валидационной выборки, итого у вас должно получиться два графика. Обратите внимание, что на обучающей выборке эти данные считаются по каждому батчу, на валидационной же они считаются по всей выборке раз в эпоху."
      ]
    },
    {
      "cell_type": "code",
      "execution_count": null,
      "metadata": {
        "id": "LzIP0tGLO9Dt",
        "pycharm": {
          "name": "#%%\n"
        },
        "colab": {
          "base_uri": "https://localhost:8080/",
          "height": 627
        },
        "outputId": "b26fecc5-0cd3-402c-ea8c-23381817658a"
      },
      "outputs": [
        {
          "output_type": "display_data",
          "data": {
            "text/plain": [
              "<Figure size 1500x600 with 2 Axes>"
            ],
            "image/png": "[encoded data removed]"
          },
          "metadata": {}
        }
      ],
      "source": [
        "fig, axs = plt.subplots(1, 2, figsize=(15, 6))\n",
        "\n",
        "axs[0].plot(range(1, 21), [np.mean(train_loss_log[i*547: (i+1)*547]) for i in range(20)], label='Train Loss', color='blue', marker='o')\n",
        "axs[0].plot(range(1, len(val_loss_log) + 1), val_loss_log, label='Validation Loss', color='orange', marker='o')\n",
        "axs[0].set_title('Loss over Epochs')\n",
        "axs[0].set_ylabel('Loss')\n",
        "axs[0].set_xlabel('Epoch')\n",
        "axs[0].legend()\n",
        "axs[0].grid(True)\n",
        "\n",
        "axs[1].plot(range(1, 21), [np.mean(train_acc_log[i*547: (i+1)*547]) for i in range(20)], label='Train Accuracy', color='blue', marker='o')\n",
        "axs[1].plot(range(1, len(val_acc_log) + 1), val_acc_log, label='Validation Accuracy', color='orange', marker='o')\n",
        "axs[1].set_title('Accuracy over Epochs')\n",
        "axs[1].set_ylabel('Accuracy')\n",
        "axs[1].set_xlabel('Epoch')\n",
        "axs[1].legend()\n",
        "axs[1].grid(True)\n",
        "\n",
        "plt.tight_layout()\n",
        "plt.show()"
      ]
    },
    {
      "cell_type": "markdown",
      "metadata": {
        "id": "_ttOJPj-O9Dt",
        "pycharm": {
          "name": "#%% md\n"
        }
      },
      "source": [
        "## 3. Расписание длины шага (2 балла)"
      ]
    },
    {
      "cell_type": "markdown",
      "metadata": {
        "id": "qiz3JstuO9Dt",
        "pycharm": {
          "name": "#%% md\n"
        }
      },
      "source": [
        "С курса \"Машинное обучение 1\" вы уже должны знать, что сходимость стохастического градиентного спуска мы можем теоретически гарантировать только если будем определенным образом со временем уменьшать длину шага. На практике при обучении нейронных сетей такая техника оказывается очень полезной, однако теоретически обоснованными способами уменьшения длины шага фантазия не ограничивается.\n",
        "\n",
        "Одним из простейших способов является кусочно постоянная функция: на нескольких фиксированных эпохах уменьшаем длину шага в константу раз."
      ]
    },
    {
      "cell_type": "code",
      "execution_count": null,
      "metadata": {
        "id": "V2Z0OT3nO9Du",
        "pycharm": {
          "name": "#%%\n"
        },
        "colab": {
          "base_uri": "https://localhost:8080/"
        },
        "outputId": "46838aeb-fc01-4f75-e0a9-2ded68dcdb8e"
      },
      "outputs": [
        {
          "output_type": "stream",
          "name": "stdout",
          "text": [
            "Epoch 0\n",
            " train loss: 1.5064743793206852, train acc: 0.464510152828105\n",
            " val loss: 1.2832812770884088, val acc: 0.5501994680851063\n",
            "\n",
            "Epoch 1\n",
            " train loss: 1.1678862823428793, train acc: 0.5932848002400651\n",
            " val loss: 1.1398216696495707, val acc: 0.5970744680851063\n",
            "\n",
            "Epoch 2\n",
            " train loss: 1.066865986400374, train acc: 0.6296397558731832\n",
            " val loss: 1.019264593022935, val acc: 0.6522828015875309\n",
            "\n",
            "Epoch 3\n",
            " train loss: 1.005746847314852, train acc: 0.648345684329596\n",
            " val loss: 1.104540989754048, val acc: 0.6185283688788719\n",
            "\n",
            "Epoch 4\n",
            " train loss: 0.9623900101651222, train acc: 0.667378068733041\n",
            " val loss: 0.9540415177954004, val acc: 0.667154255319149\n",
            "\n",
            "Epoch 5\n",
            " train loss: 0.9316056078705099, train acc: 0.6763270436300874\n",
            " val loss: 0.9487009842345056, val acc: 0.6714317377577437\n",
            "\n",
            "Epoch 6\n",
            " train loss: 0.9126691120852064, train acc: 0.6831540545990088\n",
            " val loss: 0.9289040372726766, val acc: 0.6816046100981692\n",
            "\n",
            "Epoch 7\n",
            " train loss: 0.8950749227617079, train acc: 0.6886752416708352\n",
            " val loss: 1.0498861716148702, val acc: 0.6526595744680851\n",
            "\n",
            "Epoch 8\n",
            " train loss: 0.8743922919634274, train acc: 0.6962122944416904\n",
            " val loss: 0.9400691800929131, val acc: 0.6785682624958931\n",
            "\n",
            "Epoch 9\n",
            " train loss: 0.8617711533576087, train acc: 0.6988851528281049\n",
            " val loss: 0.9581153159445904, val acc: 0.6678634752618505\n",
            "\n",
            "Epoch 10\n",
            " train loss: 0.7561624226121187, train acc: 0.73941058378115\n",
            " val loss: 0.848822084386298, val acc: 0.7119237590343395\n",
            "\n",
            "Epoch 11\n",
            " train loss: 0.7398273052419562, train acc: 0.7439401606319156\n",
            " val loss: 0.8446249065246988, val acc: 0.7134751773895102\n",
            "\n",
            "Epoch 12\n",
            " train loss: 0.7325491675838038, train acc: 0.7456948616604918\n",
            " val loss: 0.8414471207781041, val acc: 0.7125664893617021\n",
            "\n",
            "Epoch 13\n",
            " train loss: 0.7283705896280801, train acc: 0.747098622417973\n",
            " val loss: 0.8393532255862621, val acc: 0.713408688027808\n",
            "\n",
            "Epoch 14\n",
            " train loss: 0.7253866176609584, train acc: 0.7501509859749342\n",
            " val loss: 0.8369164159957398, val acc: 0.716688829787234\n",
            "\n",
            "Epoch 15\n",
            " train loss: 0.7092463726644325, train acc: 0.7550763907336666\n",
            " val loss: 0.8319913419003182, val acc: 0.7168661348363187\n",
            "\n",
            "Epoch 16\n",
            " train loss: 0.7067561371888713, train acc: 0.7563006007257284\n",
            " val loss: 0.8307585186146675, val acc: 0.7180186170212766\n",
            "\n",
            "Epoch 17\n",
            " train loss: 0.7068333000326069, train acc: 0.7556313659852776\n",
            " val loss: 0.8307530498251002, val acc: 0.7184618795171697\n",
            "\n",
            "Epoch 18\n",
            " train loss: 0.7064062336245228, train acc: 0.7568229303935328\n",
            " val loss: 0.8299376661473132, val acc: 0.717597517815042\n",
            "\n",
            "Epoch 19\n",
            " train loss: 0.706579973046043, train acc: 0.7562271481894052\n",
            " val loss: 0.831923338327002, val acc: 0.7171320922831271\n",
            "\n"
          ]
        }
      ],
      "source": [
        "net = BasicBlockNet().to(device)\n",
        "optimizer = optim.SGD(net.parameters(), lr=0.1, momentum=0.9)\n",
        "scheduler = optim.lr_scheduler.MultiStepLR(optimizer, milestones=[10, 15], gamma=0.1)\n",
        "tr_loss_log, tr_acc_log, val_loss_log, val_acc_log = train(net, optimizer, 20, train_loader, val_loader, scheduler)"
      ]
    },
    {
      "cell_type": "markdown",
      "metadata": {
        "id": "5Xc76KvzO9Du",
        "pycharm": {
          "name": "#%% md\n"
        }
      },
      "source": [
        "Посчитайте точность на тестовой выборке:"
      ]
    },
    {
      "cell_type": "code",
      "execution_count": null,
      "metadata": {
        "id": "1AjiYhKqO9Du",
        "pycharm": {
          "name": "#%%\n"
        },
        "colab": {
          "base_uri": "https://localhost:8080/"
        },
        "outputId": "2f343753-8f4f-4ef4-e8ff-66e32035ab54"
      },
      "outputs": [
        {
          "output_type": "stream",
          "name": "stdout",
          "text": [
            "loss = 0.8452602598317869, accuracy = 0.707703025477707\n"
          ]
        }
      ],
      "source": [
        "loss, accuracy = test(net, test_loader)\n",
        "print(f'loss = {loss}, accuracy = {accuracy}')"
      ]
    },
    {
      "cell_type": "code",
      "source": [
        "fig, axs = plt.subplots(1, 2, figsize=(15, 6))\n",
        "\n",
        "axs[0].plot(range(1, 21), [np.mean(tr_loss_log[i*547: (i+1)*547]) for i in range(20)], label='Train Loss', color='blue', marker='o')\n",
        "axs[0].plot(range(1, len(val_loss_log) + 1), val_loss_log, label='Validation Loss', color='orange', marker='o')\n",
        "axs[0].set_title('Loss over Epochs')\n",
        "axs[0].set_ylabel('Loss')\n",
        "axs[0].set_xlabel('Epoch')\n",
        "axs[0].legend()\n",
        "axs[0].grid(True)\n",
        "\n",
        "axs[1].plot(range(1, 21), [np.mean(tr_acc_log[i*547: (i+1)*547]) for i in range(20)], label='Train Accuracy', color='blue', marker='o')\n",
        "axs[1].plot(range(1, len(val_acc_log) + 1), val_acc_log, label='Validation Accuracy', color='orange', marker='o')\n",
        "axs[1].set_title('Accuracy over Epochs')\n",
        "axs[1].set_ylabel('Accuracy')\n",
        "axs[1].set_xlabel('Epoch')\n",
        "axs[1].legend()\n",
        "axs[1].grid(True)\n",
        "\n",
        "plt.tight_layout()\n",
        "plt.show()"
      ],
      "metadata": {
        "colab": {
          "base_uri": "https://localhost:8080/",
          "height": 627
        },
        "id": "Dz7lZxgZ25Xg",
        "outputId": "09fe1a90-9d51-49ae-b9e6-44f83ba6d7f9"
      },
      "execution_count": null,
      "outputs": [
        {
          "output_type": "display_data",
          "data": {
            "text/plain": [
              "<Figure size 1500x600 with 2 Axes>"
            ],
            "image/png": "[encoded data removed]"
          },
          "metadata": {}
        }
      ]
    },
    {
      "cell_type": "markdown",
      "metadata": {
        "id": "yE0dgLYrO9Du",
        "pycharm": {
          "name": "#%% md\n"
        }
      },
      "source": [
        "**Задание 3.0 (0.5 баллов).** Здесь может возникнуть вопрос: а что будет, если мы не будем уменьшать длину шага в процессе обучения, а сразу возьмем констатную, равную значению нашей кусочно-постоянной функции на последних эпохах, то есть $0.001$ в нашем случае. Запустите обучение и проверьте, что в таком случае мы получим худшее качество на тестовой выборке."
      ]
    },
    {
      "cell_type": "code",
      "source": [
        "net = BasicBlockNet().to(device)\n",
        "optimizer = optim.SGD(net.parameters(), lr=0.001, momentum=0.9)\n",
        "tr_loss_log, tr_acc_log, val_loss_log, val_acc_log = train(net, optimizer, 20, train_loader, val_loader, scheduler)"
      ],
      "metadata": {
        "colab": {
          "base_uri": "https://localhost:8080/"
        },
        "id": "cUwcz7G13Cbn",
        "outputId": "12663302-fd6b-434b-dca2-a723b4372510"
      },
      "execution_count": null,
      "outputs": [
        {
          "output_type": "stream",
          "name": "stdout",
          "text": [
            "Epoch 0\n",
            " train loss: 1.8336942516253678, train acc: 0.3605624837239002\n",
            " val loss: 1.6037511855997937, val acc: 0.4394281914893617\n",
            "\n",
            "Epoch 1\n",
            " train loss: 1.5381873560561994, train acc: 0.46289827640575293\n",
            " val loss: 1.4430873120084722, val acc: 0.49565602845333995\n",
            "\n",
            "Epoch 2\n",
            " train loss: 1.4103486566264625, train acc: 0.5069616740974692\n",
            " val loss: 1.350991601132332, val acc: 0.5207225178150421\n",
            "\n",
            "Epoch 3\n",
            " train loss: 1.3330672486826531, train acc: 0.5335515148025108\n",
            " val loss: 1.2972428329447483, val acc: 0.5450797872340426\n",
            "\n",
            "Epoch 4\n",
            " train loss: 1.2788826105145694, train acc: 0.5530531797592121\n",
            " val loss: 1.245514777619788, val acc: 0.5627216313747649\n",
            "\n",
            "Epoch 5\n",
            " train loss: 1.2375566932139492, train acc: 0.5686455341754055\n",
            " val loss: 1.2075033418675687, val acc: 0.5757978723404256\n",
            "\n",
            "Epoch 6\n",
            " train loss: 1.195655883557182, train acc: 0.5833605380773108\n",
            " val loss: 1.162333704816534, val acc: 0.5922872340425532\n",
            "\n",
            "Epoch 7\n",
            " train loss: 1.1576192186127197, train acc: 0.5947212065813529\n",
            " val loss: 1.1310908155238375, val acc: 0.6071808510638298\n",
            "\n",
            "Epoch 8\n",
            " train loss: 1.1253020863646346, train acc: 0.6075305236976805\n",
            " val loss: 1.109788108125646, val acc: 0.6109264184819891\n",
            "\n",
            "Epoch 9\n",
            " train loss: 1.0910804553921087, train acc: 0.6209927527080724\n",
            " val loss: 1.0872500767099096, val acc: 0.6212987589075211\n",
            "\n",
            "Epoch 10\n",
            " train loss: 1.0675500747926492, train acc: 0.6296601594039247\n",
            " val loss: 1.1224480174957439, val acc: 0.609906914893617\n",
            "\n",
            "Epoch 11\n",
            " train loss: 1.0460442140071875, train acc: 0.6357567250401708\n",
            " val loss: 1.0350876501265993, val acc: 0.64350620584285\n",
            "\n",
            "Epoch 12\n",
            " train loss: 1.0240322064873941, train acc: 0.6437344933558644\n",
            " val loss: 1.0241218356375998, val acc: 0.6455008866939139\n",
            "\n",
            "Epoch 13\n",
            " train loss: 1.0028565153343367, train acc: 0.6543483938987774\n",
            " val loss: 0.9989184432841361, val acc: 0.6559397164811479\n",
            "\n",
            "Epoch 14\n",
            " train loss: 0.9934728303600708, train acc: 0.6566335858549017\n",
            " val loss: 1.0176544458308119, val acc: 0.6460328014607125\n",
            "\n",
            "Epoch 15\n",
            " train loss: 0.9708653893287701, train acc: 0.6657376274112373\n",
            " val loss: 0.9766146916024229, val acc: 0.660128546268382\n",
            "\n",
            "Epoch 16\n",
            " train loss: 0.9593665798141926, train acc: 0.666859819858558\n",
            " val loss: 0.9806820631027222, val acc: 0.6597960994598714\n",
            "\n",
            "Epoch 17\n",
            " train loss: 0.946895166441553, train acc: 0.6739194307074469\n",
            " val loss: 0.9656879716731133, val acc: 0.6633865248649679\n",
            "\n",
            "Epoch 18\n",
            " train loss: 0.9370938568925945, train acc: 0.6767310330157306\n",
            " val loss: 0.9635068444495506, val acc: 0.6633643617021276\n",
            "\n",
            "Epoch 19\n",
            " train loss: 0.9257140296904652, train acc: 0.6808321363747228\n",
            " val loss: 0.9673269832387884, val acc: 0.664561170212766\n",
            "\n"
          ]
        }
      ]
    },
    {
      "cell_type": "code",
      "execution_count": null,
      "metadata": {
        "id": "qZ2iB-LBO9Du",
        "pycharm": {
          "name": "#%%\n"
        },
        "colab": {
          "base_uri": "https://localhost:8080/"
        },
        "outputId": "84dabb2f-3ced-4eef-8ffe-09e4a8cb9339"
      },
      "outputs": [
        {
          "output_type": "stream",
          "name": "stdout",
          "text": [
            "loss = 0.9739269109288599, accuracy = 0.6642117834394905\n"
          ]
        }
      ],
      "source": [
        "loss, accuracy = test(net, test_loader)\n",
        "print(f'loss = {loss}, accuracy = {accuracy}')"
      ]
    },
    {
      "cell_type": "markdown",
      "metadata": {
        "id": "xVotU378O9Du",
        "pycharm": {
          "name": "#%% md\n"
        }
      },
      "source": [
        "**Задание 3.1 (1.5 балла).** Изучите, какие еще способы уменьшения длины шага представлены в <code>torch.optim.lr_scheduler</code>. Выберите несколько из них, объясните, как они устроены, и обучите модель с ними. Удалось ли добиться улучшения качества на тестовой выборке?"
      ]
    },
    {
      "cell_type": "code",
      "execution_count": null,
      "metadata": {
        "id": "nkGlzocOO9Du",
        "pycharm": {
          "name": "#%%\n"
        },
        "colab": {
          "base_uri": "https://localhost:8080/"
        },
        "outputId": "10df680f-878d-4246-fac8-5448044a8779"
      },
      "outputs": [
        {
          "output_type": "stream",
          "name": "stdout",
          "text": [
            "Epoch 0\n",
            " train loss: 1.8080647399264236, train acc: 0.3729922956696812\n",
            " val loss: 1.5977469058746987, val acc: 0.4459219859001484\n",
            "\n",
            "Epoch 1\n",
            " train loss: 1.5320495702666819, train acc: 0.4660567380828439\n",
            " val loss: 1.4663163367738115, val acc: 0.48541666675121226\n",
            "\n",
            "Epoch 2\n",
            " train loss: 1.437774202287524, train acc: 0.49688234527542563\n",
            " val loss: 1.4008923586378705, val acc: 0.507313829787234\n",
            "\n",
            "Epoch 3\n",
            " train loss: 1.389670733342005, train acc: 0.5152863019999028\n",
            " val loss: 1.3700428780089033, val acc: 0.5194148936170213\n",
            "\n",
            "Epoch 4\n",
            " train loss: 1.3721605513169952, train acc: 0.5211298642254398\n",
            " val loss: 1.3664518533868992, val acc: 0.5189937944107867\n",
            "\n",
            "Epoch 5\n",
            " train loss: 1.3721554957098674, train acc: 0.5190487072498314\n",
            " val loss: 1.367215055607735, val acc: 0.5186613476022761\n",
            "\n",
            "Epoch 6\n",
            " train loss: 1.3716138847567263, train acc: 0.5229090493601463\n",
            " val loss: 1.368408865117012, val acc: 0.5186613476022761\n",
            "\n",
            "Epoch 7\n",
            " train loss: 1.3727385670872885, train acc: 0.5215175307102133\n",
            " val loss: 1.3669852840139511, val acc: 0.5192597518575952\n",
            "\n",
            "Epoch 8\n",
            " train loss: 1.3725470738175582, train acc: 0.5213257378372458\n",
            " val loss: 1.3709593529396868, val acc: 0.5190824468085107\n",
            "\n",
            "Epoch 9\n",
            " train loss: 1.3725532576632455, train acc: 0.5211380255941499\n",
            " val loss: 1.366684739133145, val acc: 0.5197251773895102\n",
            "\n",
            "Epoch 10\n",
            " train loss: 1.3720384249957431, train acc: 0.5218807129798904\n",
            " val loss: 1.3682581647913508, val acc: 0.5180851063829788\n",
            "\n",
            "Epoch 11\n",
            " train loss: 1.3719352876028588, train acc: 0.5218317446586637\n",
            " val loss: 1.3679195855526214, val acc: 0.5186170212765957\n",
            "\n",
            "Epoch 12\n",
            " train loss: 1.3721513050783705, train acc: 0.5220112954240831\n",
            " val loss: 1.3676982732529337, val acc: 0.5189716312479465\n",
            "\n",
            "Epoch 13\n",
            " train loss: 1.372919467946947, train acc: 0.5208115696471177\n",
            " val loss: 1.3687106213671096, val acc: 0.5186613476022761\n",
            "\n",
            "Epoch 14\n",
            " train loss: 1.3717800328674874, train acc: 0.5223744777482432\n",
            " val loss: 1.3655314967987384, val acc: 0.5173980497299356\n",
            "\n",
            "Epoch 15\n",
            " train loss: 1.3727358433620584, train acc: 0.5207095521023766\n",
            " val loss: 1.3645266309697577, val acc: 0.5198581561129144\n",
            "\n",
            "Epoch 16\n",
            " train loss: 1.3727464843711643, train acc: 0.5229947440585009\n",
            " val loss: 1.36774780801002, val acc: 0.5186391844394359\n",
            "\n",
            "Epoch 17\n",
            " train loss: 1.3715236160829254, train acc: 0.5211176221723748\n",
            " val loss: 1.3672092351507634, val acc: 0.5188386525245423\n",
            "\n",
            "Epoch 18\n",
            " train loss: 1.3728987634508876, train acc: 0.5198117981663134\n",
            " val loss: 1.3674508181024105, val acc: 0.5191932624958931\n",
            "\n",
            "Epoch 19\n",
            " train loss: 1.3724060045517776, train acc: 0.5210972186416333\n",
            " val loss: 1.3672230167591826, val acc: 0.5190381206096487\n",
            "\n",
            "loss = 1.3641253201065549, accuracy = 0.5210987261146497\n"
          ]
        }
      ],
      "source": [
        "net = BasicBlockNet().to(device)\n",
        "optimizer = optim.SGD(net.parameters(), lr=0.001, momentum=0.9)\n",
        "scheduler = optim.lr_scheduler.PolynomialLR(optimizer, total_iters=4, power=1.0)\n",
        "tr_loss_log, tr_acc_log, val_loss_log, val_acc_log = train(net, optimizer, 20, train_loader, val_loader, scheduler)\n",
        "loss, accuracy = test(net, test_loader)\n",
        "print(f'loss = {loss}, accuracy = {accuracy}')"
      ]
    },
    {
      "cell_type": "code",
      "source": [
        "net = BasicBlockNet().to(device)\n",
        "optimizer = optim.SGD(net.parameters(), lr=0.001, momentum=0.9)\n",
        "scheduler = optim.lr_scheduler.CosineAnnealingLR(optimizer, T_max=len(train_loader)*20)\n",
        "tr_loss_log, tr_acc_log, val_loss_log, val_acc_log = train(net, optimizer, 20, train_loader, val_loader, scheduler)\n",
        "loss, accuracy = test(net, test_loader)\n",
        "print(f'loss = {loss}, accuracy = {accuracy}')"
      ],
      "metadata": {
        "colab": {
          "base_uri": "https://localhost:8080/"
        },
        "id": "1xZMffLpkUkm",
        "outputId": "5c27f3bc-a7cb-45a0-ff4d-dbcfdc4a1170"
      },
      "execution_count": null,
      "outputs": [
        {
          "output_type": "stream",
          "name": "stdout",
          "text": [
            "Epoch 0\n",
            " train loss: 1.7976759680882233, train acc: 0.37067853881410534\n",
            " val loss: 1.581078010924319, val acc: 0.43936170212765957\n",
            "\n",
            "Epoch 1\n",
            " train loss: 1.504837397683473, train acc: 0.47036595721567354\n",
            " val loss: 1.4347136715625195, val acc: 0.4925531914893617\n",
            "\n",
            "Epoch 2\n",
            " train loss: 1.4026375786695882, train acc: 0.5075003265026936\n",
            " val loss: 1.353257112807416, val acc: 0.5260859929500742\n",
            "\n",
            "Epoch 3\n",
            " train loss: 1.3369156778185634, train acc: 0.5319029120030307\n",
            " val loss: 1.3010558610266827, val acc: 0.5457003546522019\n",
            "\n",
            "Epoch 4\n",
            " train loss: 1.2922583707289896, train acc: 0.5466709650194841\n",
            " val loss: 1.2620417934782961, val acc: 0.5586657801841167\n",
            "\n",
            "Epoch 5\n",
            " train loss: 1.2513203012877887, train acc: 0.5600597414935529\n",
            " val loss: 1.2472465307154554, val acc: 0.5579565603682335\n",
            "\n",
            "Epoch 6\n",
            " train loss: 1.214005584472712, train acc: 0.576154021992326\n",
            " val loss: 1.184430095489989, val acc: 0.5873005319148936\n",
            "\n",
            "Epoch 7\n",
            " train loss: 1.1791459393893562, train acc: 0.5883226691042047\n",
            " val loss: 1.1710191503484197, val acc: 0.5938164893617022\n",
            "\n",
            "Epoch 8\n",
            " train loss: 1.1462781569857483, train acc: 0.5993691238232461\n",
            " val loss: 1.1200543418843696, val acc: 0.6100398936170213\n",
            "\n",
            "Epoch 9\n",
            " train loss: 1.1114852901350645, train acc: 0.6105420801931587\n",
            " val loss: 1.1258172448645247, val acc: 0.6088652483960415\n",
            "\n",
            "Epoch 10\n",
            " train loss: 1.0836199853276423, train acc: 0.6232167341809386\n",
            " val loss: 1.0843395978846448, val acc: 0.6206338654173181\n",
            "\n",
            "Epoch 11\n",
            " train loss: 1.0576792474856542, train acc: 0.6310924850608575\n",
            " val loss: 1.0668641196920516, val acc: 0.6261968085106383\n",
            "\n",
            "Epoch 12\n",
            " train loss: 1.0356757845695537, train acc: 0.6404332071815156\n",
            " val loss: 1.059862028284276, val acc: 0.6314716313747649\n",
            "\n",
            "Epoch 13\n",
            " train loss: 1.0193637556088253, train acc: 0.6448893314959581\n",
            " val loss: 1.0039015166302945, val acc: 0.6504432624958931\n",
            "\n",
            "Epoch 14\n",
            " train loss: 0.9992468354906853, train acc: 0.652581450817136\n",
            " val loss: 1.0080663452757166, val acc: 0.6487588654173181\n",
            "\n",
            "Epoch 15\n",
            " train loss: 0.9820253113506046, train acc: 0.6610244190017309\n",
            " val loss: 1.004369144236788, val acc: 0.6486702127659575\n",
            "\n",
            "Epoch 16\n",
            " train loss: 0.9713787781908918, train acc: 0.6641706386257569\n",
            " val loss: 0.9663664493154972, val acc: 0.6638962765957447\n",
            "\n",
            "Epoch 17\n",
            " train loss: 0.9601501813754303, train acc: 0.667373988048686\n",
            " val loss: 0.9753343161116255, val acc: 0.664472517815042\n",
            "\n",
            "Epoch 18\n",
            " train loss: 0.9500660676189053, train acc: 0.6705487725721635\n",
            " val loss: 0.969591272891836, val acc: 0.6614804965384463\n",
            "\n",
            "Epoch 19\n",
            " train loss: 0.9423838203306389, train acc: 0.674021448252188\n",
            " val loss: 0.943319770376733, val acc: 0.6713874114320634\n",
            "\n",
            "loss = 0.956747249053542, accuracy = 0.6666003184713376\n"
          ]
        }
      ]
    },
    {
      "cell_type": "code",
      "source": [
        "net = BasicBlockNet().to(device)\n",
        "optimizer = optim.SGD(net.parameters(), lr=0.001, momentum=0.9)\n",
        "scheduler = optim.lr_scheduler.CyclicLR(optimizer, base_lr=0.01, max_lr=0.1)\n",
        "tr_loss_log, tr_acc_log, val_loss_log, val_acc_log = train(net, optimizer, 20, train_loader, val_loader, scheduler)\n",
        "loss, accuracy = test(net, test_loader)\n",
        "print(f'loss = {loss}, accuracy = {accuracy}')"
      ],
      "metadata": {
        "colab": {
          "base_uri": "https://localhost:8080/"
        },
        "id": "yF4cqSKzlJj8",
        "outputId": "b0470896-4f13-4796-bd09-31432dda2cd3"
      },
      "execution_count": null,
      "outputs": [
        {
          "output_type": "stream",
          "name": "stdout",
          "text": [
            "Epoch 0\n",
            " train loss: 1.4980960306345437, train acc: 0.46052330895795246\n",
            " val loss: 1.292660297485108, val acc: 0.5363475178150421\n",
            "\n",
            "Epoch 1\n",
            " train loss: 1.238691708396514, train acc: 0.5594149908592322\n",
            " val loss: 1.1839589669349346, val acc: 0.5811613476022761\n",
            "\n",
            "Epoch 2\n",
            " train loss: 1.1021840141939725, train acc: 0.6101503330785134\n",
            " val loss: 1.0408633125589248, val acc: 0.6352171986661059\n",
            "\n",
            "Epoch 3\n",
            " train loss: 1.024239793338113, train acc: 0.639829263608678\n",
            " val loss: 1.0046161816475239, val acc: 0.6505762412192974\n",
            "\n",
            "Epoch 4\n",
            " train loss: 0.9751020694999416, train acc: 0.6611631628146337\n",
            " val loss: 0.9478126574069896, val acc: 0.6724290781832756\n",
            "\n",
            "Epoch 5\n",
            " train loss: 0.940316229786254, train acc: 0.6730788065702867\n",
            " val loss: 0.9170325659691019, val acc: 0.6808732271194458\n",
            "\n",
            "Epoch 6\n",
            " train loss: 0.910663659437483, train acc: 0.6831826194984604\n",
            " val loss: 0.9265073317162534, val acc: 0.6739140071767442\n",
            "\n",
            "Epoch 7\n",
            " train loss: 0.8868894535619118, train acc: 0.691503166716539\n",
            " val loss: 0.9309907583480186, val acc: 0.674468085106383\n",
            "\n",
            "Epoch 8\n",
            " train loss: 0.8636172907988812, train acc: 0.6980526900596549\n",
            " val loss: 0.9175494716522542, val acc: 0.6793882978723405\n",
            "\n",
            "Epoch 9\n",
            " train loss: 0.8477450225645271, train acc: 0.7068465984063785\n",
            " val loss: 0.870375893217452, val acc: 0.7017730497299357\n",
            "\n",
            "Epoch 10\n",
            " train loss: 0.8343737280129079, train acc: 0.711869940025497\n",
            " val loss: 0.883265539179457, val acc: 0.697628546268382\n",
            "\n",
            "Epoch 11\n",
            " train loss: 0.814162134252475, train acc: 0.7206883324783506\n",
            " val loss: 0.8528419360201409, val acc: 0.7067597518575952\n",
            "\n",
            "Epoch 12\n",
            " train loss: 0.7991038971125971, train acc: 0.7223002090096692\n",
            " val loss: 0.8614738778865084, val acc: 0.7068262412192974\n",
            "\n",
            "Epoch 13\n",
            " train loss: 0.7883696491801107, train acc: 0.7275928767769166\n",
            " val loss: 0.8374201181087088, val acc: 0.7143617021276596\n",
            "\n",
            "Epoch 14\n",
            " train loss: 0.7844475915270706, train acc: 0.7291925111462036\n",
            " val loss: 0.847075533740064, val acc: 0.7107047872340425\n",
            "\n",
            "Epoch 15\n",
            " train loss: 0.7728818961209746, train acc: 0.7334241969493887\n",
            " val loss: 0.859017321911264, val acc: 0.7075576241980208\n",
            "\n",
            "Epoch 16\n",
            " train loss: 0.7635677739078863, train acc: 0.7369580831126713\n",
            " val loss: 0.8268772617299506, val acc: 0.7192375888215735\n",
            "\n",
            "Epoch 17\n",
            " train loss: 0.7570329196274389, train acc: 0.7398921063874714\n",
            " val loss: 0.870234037206528, val acc: 0.7036790781832756\n",
            "\n",
            "Epoch 18\n",
            " train loss: 0.7452650153004927, train acc: 0.7442788587409792\n",
            " val loss: 0.817740180264128, val acc: 0.722096631374765\n",
            "\n",
            "Epoch 19\n",
            " train loss: 0.7378672899668134, train acc: 0.7462375947500713\n",
            " val loss: 0.8317189621164444, val acc: 0.7145390071767441\n",
            "\n",
            "loss = 0.8528441528605807, accuracy = 0.7111863057324841\n"
          ]
        }
      ]
    },
    {
      "cell_type": "markdown",
      "metadata": {
        "id": "5a_zMNNVO9Du",
        "pycharm": {
          "name": "#%% md\n"
        }
      },
      "source": [
        "CyclicLR позволил чуть-чуть улучшить результат, но другие приемы заметно ухудшили."
      ]
    },
    {
      "cell_type": "markdown",
      "metadata": {
        "id": "7xFXgl_3_E--",
        "pycharm": {
          "name": "#%% md\n"
        }
      },
      "source": [
        "## 4. Аугментации данных (2 балла)"
      ]
    },
    {
      "cell_type": "markdown",
      "metadata": {
        "id": "5G0Easo9O9Du",
        "pycharm": {
          "name": "#%% md\n"
        }
      },
      "source": [
        "Еще одной стандартной техникой, применяющейся в глубинном обучении, а особенно часто в компьютерном зрении, являются аугментации данных. Суть аугментаций состоит в том, что мы можем некоторым синтетическим образом видоизменять объекты обучающей выборки, тем самым расширяя ее, а также делая итоговую модель более устойчивой к таким изменениям.\n",
        "\n",
        "Простейшая аугментация, которую можно применить к картинкам — разворот картинки по горизонтальной оси. То есть при обучении модели с вероятностью $0.5$ мы будем разворачивать картинку из обучающей выборки."
      ]
    },
    {
      "cell_type": "code",
      "execution_count": null,
      "metadata": {
        "id": "SzeFpgtfO9Du",
        "pycharm": {
          "name": "#%%\n"
        },
        "colab": {
          "base_uri": "https://localhost:8080/",
          "height": 389
        },
        "outputId": "9525819d-6406-40f6-8a72-f0d2e0ab834c"
      },
      "outputs": [
        {
          "output_type": "display_data",
          "data": {
            "text/plain": [
              "<Figure size 640x480 with 1 Axes>"
            ],
            "image/png": "[encoded data removed]"
          },
          "metadata": {}
        },
        {
          "output_type": "display_data",
          "data": {
            "text/plain": [
              "<Figure size 640x480 with 1 Axes>"
            ],
            "image/png": "[encoded data removed]"
          },
          "metadata": {}
        }
      ],
      "source": [
        "dataiter = iter(train_loader)\n",
        "images, labels = next(dataiter)\n",
        "\n",
        "imshow(torchvision.utils.make_grid(images[:4]))\n",
        "\n",
        "imshow(torchvision.utils.make_grid(transforms.functional.hflip(images[:4])))"
      ]
    },
    {
      "cell_type": "markdown",
      "metadata": {
        "id": "BR4a-XJQO9Du",
        "pycharm": {
          "name": "#%% md\n"
        }
      },
      "source": [
        "Наиболее удобным способом работы с аугментациями в PyTorch является их задание в списке <code>transforms</code>, который затем передается в загрузчик данных. Обучим нашу сеть, применяя горизонтальные повороты:"
      ]
    },
    {
      "cell_type": "code",
      "execution_count": null,
      "metadata": {
        "id": "na0ScBf-_AqX",
        "scrolled": true,
        "pycharm": {
          "name": "#%%\n"
        },
        "colab": {
          "base_uri": "https://localhost:8080/"
        },
        "outputId": "80a30646-6727-4fa3-82af-da8ef44102f8"
      },
      "outputs": [
        {
          "output_type": "stream",
          "name": "stdout",
          "text": [
            "Files already downloaded and verified\n",
            "Files already downloaded and verified\n",
            "Epoch 0\n",
            " train loss: 1.4594713347049693, train acc: 0.48092272795968344\n",
            " val loss: 1.1973296064011594, val acc: 0.5749778369639782\n",
            "\n",
            "Epoch 1\n",
            " train loss: 1.1609839233663444, train acc: 0.5955169430816414\n",
            " val loss: 1.0808983782504467, val acc: 0.6244459220703612\n",
            "\n",
            "Epoch 2\n",
            " train loss: 1.0606767284586835, train acc: 0.632149386340565\n",
            " val loss: 1.0177129065736812, val acc: 0.6533909574468085\n",
            "\n",
            "Epoch 3\n",
            " train loss: 1.005233947712063, train acc: 0.6513490794563642\n",
            " val loss: 0.983755712052609, val acc: 0.6616134752618505\n",
            "\n",
            "Epoch 4\n",
            " train loss: 0.9706709881805197, train acc: 0.6632973687958238\n",
            " val loss: 1.0425992922579987, val acc: 0.6362367021276596\n",
            "\n",
            "Epoch 5\n",
            " train loss: 0.944083026383869, train acc: 0.6733073257658991\n",
            " val loss: 0.9509081064386571, val acc: 0.6675088654173181\n",
            "\n",
            "Epoch 6\n",
            " train loss: 0.9208542675161274, train acc: 0.6807586837294333\n",
            " val loss: 0.914835750042124, val acc: 0.682003546268382\n",
            "\n",
            "Epoch 7\n",
            " train loss: 0.907601553735611, train acc: 0.688263090916482\n",
            " val loss: 0.9055270019997942, val acc: 0.6898714539852548\n",
            "\n",
            "Epoch 8\n",
            " train loss: 0.8989283393462354, train acc: 0.6880876208354176\n",
            " val loss: 0.9130339338424358, val acc: 0.683067376055616\n",
            "\n",
            "Epoch 9\n",
            " train loss: 0.8682480268112266, train acc: 0.6982812092552674\n",
            " val loss: 0.9054056433921165, val acc: 0.6927083335024246\n",
            "\n",
            "Epoch 10\n",
            " train loss: 0.7813423607750393, train acc: 0.731428734672135\n",
            " val loss: 0.8127696088019838, val acc: 0.7235593973322118\n",
            "\n",
            "Epoch 11\n",
            " train loss: 0.7621813056891753, train acc: 0.737345749651928\n",
            " val loss: 0.801795042956129, val acc: 0.7253102837724889\n",
            "\n",
            "Epoch 12\n",
            " train loss: 0.7594053217872188, train acc: 0.7377538196129598\n",
            " val loss: 0.8035933544027044, val acc: 0.7247118795171698\n",
            "\n",
            "Epoch 13\n",
            " train loss: 0.7547607890975541, train acc: 0.741022460203502\n",
            " val loss: 0.8006730261001181, val acc: 0.7240248228641266\n",
            "\n",
            "Epoch 14\n",
            " train loss: 0.7489471492209426, train acc: 0.7420018281535649\n",
            " val loss: 0.7996032092165439, val acc: 0.728413120736467\n",
            "\n",
            "Epoch 15\n",
            " train loss: 0.7391660819323886, train acc: 0.7456540545990088\n",
            " val loss: 0.7957674044243833, val acc: 0.7288342199427016\n",
            "\n",
            "Epoch 16\n",
            " train loss: 0.7341675083859529, train acc: 0.7470741382028765\n",
            " val loss: 0.7890332111652861, val acc: 0.7301196808510638\n",
            "\n",
            "Epoch 17\n",
            " train loss: 0.7359144099778624, train acc: 0.7475842257086494\n",
            " val loss: 0.7849830886150928, val acc: 0.7300975178150421\n",
            "\n",
            "Epoch 18\n",
            " train loss: 0.7320775860951195, train acc: 0.747359787197392\n",
            " val loss: 0.7900096782978545, val acc: 0.7295212765957447\n",
            "\n",
            "Epoch 19\n",
            " train loss: 0.7315082144693658, train acc: 0.7499347088323869\n",
            " val loss: 0.782650448286787, val acc: 0.7314716313747649\n",
            "\n"
          ]
        }
      ],
      "source": [
        "transform = transforms.Compose(\n",
        "        [transforms.RandomHorizontalFlip(),\n",
        "         transforms.ToTensor(),\n",
        "         transforms.Normalize((0.5, 0.5, 0.5), (0.5, 0.5, 0.5))]\n",
        ")\n",
        "\n",
        "train_loader, val_loader, test_loader = get_cifar10_data(batch_size=64, transform_train=transform)\n",
        "\n",
        "net = BasicBlockNet().to(device)\n",
        "optimizer = optim.SGD(net.parameters(), lr=0.1, momentum=0.9)\n",
        "scheduler = optim.lr_scheduler.MultiStepLR(optimizer, milestones=[10, 15], gamma=0.1)\n",
        "tr_loss_log, tr_acc_log, val_loss_log, val_acc_log = train(net, optimizer, 20, train_loader, val_loader, scheduler)"
      ]
    },
    {
      "cell_type": "markdown",
      "metadata": {
        "id": "v3ZIqDQqO9Dv",
        "pycharm": {
          "name": "#%% md\n"
        }
      },
      "source": [
        "Посчитайте точность на тестовой выборке:"
      ]
    },
    {
      "cell_type": "code",
      "execution_count": null,
      "metadata": {
        "id": "nNJizMkM_Auh",
        "pycharm": {
          "name": "#%%\n"
        },
        "colab": {
          "base_uri": "https://localhost:8080/"
        },
        "outputId": "18b9acee-f23f-4d81-b364-dc0416966596"
      },
      "outputs": [
        {
          "output_type": "stream",
          "name": "stdout",
          "text": [
            "loss = 0.8063512548899195, accuracy = 0.7248208598726115\n"
          ]
        }
      ],
      "source": [
        "loss, accuracy = test(net, test_loader)\n",
        "print(f'loss = {loss}, accuracy = {accuracy}')"
      ]
    },
    {
      "cell_type": "markdown",
      "metadata": {
        "id": "KndehSCHO9Dv",
        "pycharm": {
          "name": "#%% md\n"
        }
      },
      "source": [
        "**Задание 4.1 (2 балла).** Изучите, какие еще способы аугментаций изображений представлены в <code>torchvision.transforms</code>. Выберите несколько из них, объясните, как они устроены, и обучите модель с ними (по отдельности и вместе). Удалось ли добиться улучшения качества на тестовой выборке?"
      ]
    },
    {
      "cell_type": "code",
      "execution_count": null,
      "metadata": {
        "id": "Np4rgvdZ_QRF",
        "pycharm": {
          "name": "#%%\n"
        },
        "colab": {
          "base_uri": "https://localhost:8080/"
        },
        "outputId": "d082737e-28c5-4edd-f3c4-eba7315001a0"
      },
      "outputs": [
        {
          "output_type": "stream",
          "name": "stdout",
          "text": [
            "Files already downloaded and verified\n",
            "Files already downloaded and verified\n",
            "Epoch 0\n",
            " train loss: 1.4757463195424194, train acc: 0.4767114455782735\n",
            " val loss: 1.2407306770060924, val acc: 0.554565602921425\n",
            "\n",
            "Epoch 1\n",
            " train loss: 1.17193348577733, train acc: 0.5909873662308758\n",
            " val loss: 1.0810562176907317, val acc: 0.6248005319148936\n",
            "\n",
            "Epoch 2\n",
            " train loss: 1.0599624193128763, train acc: 0.6335857926818527\n",
            " val loss: 1.0846961335932954, val acc: 0.6292109930768927\n",
            "\n",
            "Epoch 3\n",
            " train loss: 1.0049054199860343, train acc: 0.6521244124259112\n",
            " val loss: 1.0344476271182932, val acc: 0.6452127659574468\n",
            "\n",
            "Epoch 4\n",
            " train loss: 0.9657397038104112, train acc: 0.6656396905508513\n",
            " val loss: 1.0233304016133573, val acc: 0.6506648936170213\n",
            "\n",
            "Epoch 5\n",
            " train loss: 0.9387171270642464, train acc: 0.6744540024283163\n",
            " val loss: 1.0615523919146113, val acc: 0.6318705674181593\n",
            "\n",
            "Epoch 6\n",
            " train loss: 0.9114320381685846, train acc: 0.686716505661743\n",
            " val loss: 0.9513893807187993, val acc: 0.6738696808510638\n",
            "\n",
            "Epoch 7\n",
            " train loss: 0.8977522587427491, train acc: 0.693319078119407\n",
            " val loss: 0.9487099315257783, val acc: 0.6748891845662544\n",
            "\n",
            "Epoch 8\n",
            " train loss: 0.8859785558754609, train acc: 0.6927151345465693\n",
            " val loss: 0.9249259996921458, val acc: 0.682690602921425\n",
            "\n",
            "Epoch 9\n",
            " train loss: 0.8594022723394948, train acc: 0.6999094085240058\n",
            " val loss: 0.9133773392819343, val acc: 0.6855718085106383\n",
            "\n",
            "Epoch 10\n",
            " train loss: 0.7610938342550337, train acc: 0.7388025595239573\n",
            " val loss: 0.847401443948137, val acc: 0.7133200356300841\n",
            "\n",
            "Epoch 11\n",
            " train loss: 0.7451027574007428, train acc: 0.7439809676933986\n",
            " val loss: 0.8428593937386858, val acc: 0.7144060284533399\n",
            "\n",
            "Epoch 12\n",
            " train loss: 0.7376423709135387, train acc: 0.7455153108950725\n",
            " val loss: 0.8434756672128718, val acc: 0.7131648936170213\n",
            "\n",
            "Epoch 13\n",
            " train loss: 0.7378961608440392, train acc: 0.7467068751943613\n",
            " val loss: 0.8353480474745973, val acc: 0.7154033688788718\n",
            "\n",
            "Epoch 14\n",
            " train loss: 0.7317649251909099, train acc: 0.7479474080328096\n",
            " val loss: 0.8417466129394288, val acc: 0.7134530143534884\n",
            "\n",
            "Epoch 15\n",
            " train loss: 0.7164585348457043, train acc: 0.755039664465505\n",
            " val loss: 0.8287176725712229, val acc: 0.719503546268382\n",
            "\n",
            "Epoch 16\n",
            " train loss: 0.715377657733844, train acc: 0.7553253134600205\n",
            " val loss: 0.8305671610730759, val acc: 0.7184175531914894\n",
            "\n",
            "Epoch 17\n",
            " train loss: 0.7151338197631417, train acc: 0.7548315488006341\n",
            " val loss: 0.8287423246718467, val acc: 0.7195478723404255\n",
            "\n",
            "Epoch 18\n",
            " train loss: 0.7117085346247204, train acc: 0.7558272395970834\n",
            " val loss: 0.8293063480803307, val acc: 0.7179964539852548\n",
            "\n",
            "Epoch 19\n",
            " train loss: 0.7110183370287719, train acc: 0.7568270110778879\n",
            " val loss: 0.8284717321395874, val acc: 0.7178856382978723\n",
            "\n",
            "loss = 0.8205336267781106, accuracy = 0.7174562101910829\n"
          ]
        }
      ],
      "source": [
        "transform = transforms.Compose(\n",
        "        [transforms.RandomGrayscale(p=0.1),\n",
        "         transforms.ToTensor(),\n",
        "         transforms.Normalize((0.5, 0.5, 0.5), (0.5, 0.5, 0.5))]\n",
        ")\n",
        "\n",
        "train_loader, val_loader, test_loader = get_cifar10_data(batch_size=64, transform_train=transform)\n",
        "\n",
        "net = BasicBlockNet().to(device)\n",
        "optimizer = optim.SGD(net.parameters(), lr=0.1, momentum=0.9)\n",
        "scheduler = optim.lr_scheduler.MultiStepLR(optimizer, milestones=[10, 15], gamma=0.1)\n",
        "tr_loss_log, tr_acc_log, val_loss_log, val_acc_log = train(net, optimizer, 20, train_loader, val_loader, scheduler)\n",
        "loss, accuracy = test(net, test_loader)\n",
        "print(f'loss = {loss}, accuracy = {accuracy}')\n"
      ]
    },
    {
      "cell_type": "code",
      "source": [
        "transform = transforms.Compose(\n",
        "        [transforms.RandomVerticalFlip(),\n",
        "         transforms.ToTensor(),\n",
        "         transforms.Normalize((0.5, 0.5, 0.5), (0.5, 0.5, 0.5))]\n",
        ")\n",
        "\n",
        "train_loader, val_loader, test_loader = get_cifar10_data(batch_size=64, transform_train=transform)\n",
        "\n",
        "net = BasicBlockNet().to(device)\n",
        "optimizer = optim.SGD(net.parameters(), lr=0.1, momentum=0.9)\n",
        "scheduler = optim.lr_scheduler.MultiStepLR(optimizer, milestones=[10, 15], gamma=0.1)\n",
        "tr_loss_log, tr_acc_log, val_loss_log, val_acc_log = train(net, optimizer, 20, train_loader, val_loader, scheduler)\n",
        "loss, accuracy = test(net, test_loader)\n",
        "print(f'loss = {loss}, accuracy = {accuracy}')\n"
      ],
      "metadata": {
        "colab": {
          "base_uri": "https://localhost:8080/"
        },
        "id": "97TTMAgR1dGU",
        "outputId": "4484d09a-b75c-4eb4-a66a-c1ed75ee656b"
      },
      "execution_count": null,
      "outputs": [
        {
          "output_type": "stream",
          "name": "stdout",
          "text": [
            "Files already downloaded and verified\n",
            "Files already downloaded and verified\n",
            "Epoch 0\n",
            " train loss: 1.6321180873640713, train acc: 0.40595618963677443\n",
            " val loss: 1.4327622220871297, val acc: 0.48328900717674417\n",
            "\n",
            "Epoch 1\n",
            " train loss: 1.3613134107162572, train acc: 0.5157351789134512\n",
            " val loss: 1.2981054686485454, val acc: 0.5388076241980208\n",
            "\n",
            "Epoch 2\n",
            " train loss: 1.2604430097766506, train acc: 0.5527185623345036\n",
            " val loss: 1.2380496575477276, val acc: 0.564627659574468\n",
            "\n",
            "Epoch 3\n",
            " train loss: 1.2055463675389124, train acc: 0.5737627318615888\n",
            " val loss: 1.186868456576733, val acc: 0.5860593973322118\n",
            "\n",
            "Epoch 4\n",
            " train loss: 1.155347780728035, train acc: 0.5893836511772337\n",
            " val loss: 1.1878546052790702, val acc: 0.5831117021276596\n",
            "\n",
            "Epoch 5\n",
            " train loss: 1.1236360683301685, train acc: 0.6020174981035306\n",
            " val loss: 1.1788116193832234, val acc: 0.5800753546522018\n",
            "\n",
            "Epoch 6\n",
            " train loss: 1.0940734168729136, train acc: 0.6148921063874714\n",
            " val loss: 1.1224771948570902, val acc: 0.5994459220703612\n",
            "\n",
            "Epoch 7\n",
            " train loss: 1.08260869685649, train acc: 0.6211233351522651\n",
            " val loss: 1.1164391050947473, val acc: 0.6125\n",
            "\n",
            "Epoch 8\n",
            " train loss: 1.0663088149300877, train acc: 0.6243715722120659\n",
            " val loss: 1.0642032623291016, val acc: 0.6277703901554675\n",
            "\n",
            "Epoch 9\n",
            " train loss: 1.0438709099942196, train acc: 0.6309904675161163\n",
            " val loss: 1.102446925893743, val acc: 0.6233156029214251\n",
            "\n",
            "Epoch 10\n",
            " train loss: 0.9462662318506886, train acc: 0.6718015474636768\n",
            " val loss: 0.9758133383507425, val acc: 0.6592641844394359\n",
            "\n",
            "Epoch 11\n",
            " train loss: 0.9266975538386287, train acc: 0.6757271807416048\n",
            " val loss: 0.9710287672408083, val acc: 0.6624778369639782\n",
            "\n",
            "Epoch 12\n",
            " train loss: 0.9217299684963889, train acc: 0.6789631758573068\n",
            " val loss: 0.9654160669509401, val acc: 0.6637632978723405\n",
            "\n",
            "Epoch 13\n",
            " train loss: 0.9192182112219565, train acc: 0.6799221402766282\n",
            " val loss: 0.9576930127245314, val acc: 0.6663563829787233\n",
            "\n",
            "Epoch 14\n",
            " train loss: 0.9121254162770956, train acc: 0.6823093497774937\n",
            " val loss: 0.9536786330507157, val acc: 0.6696365249917863\n",
            "\n",
            "Epoch 15\n",
            " train loss: 0.9012084098794997, train acc: 0.685884042893293\n",
            " val loss: 0.9483192192747237, val acc: 0.673891844013904\n",
            "\n",
            "Epoch 16\n",
            " train loss: 0.8956118859146369, train acc: 0.687757084095064\n",
            " val loss: 0.9470261868010176, val acc: 0.6729166667512123\n",
            "\n",
            "Epoch 17\n",
            " train loss: 0.896697966119707, train acc: 0.6869654283880969\n",
            " val loss: 0.9476552476274206, val acc: 0.6749113476022761\n",
            "\n",
            "Epoch 18\n",
            " train loss: 0.8945224419154458, train acc: 0.688573224126094\n",
            " val loss: 0.9488680043119065, val acc: 0.672628546268382\n",
            "\n",
            "Epoch 19\n",
            " train loss: 0.8971602511362359, train acc: 0.6878835858549017\n",
            " val loss: 0.9470633567647732, val acc: 0.673891844013904\n",
            "\n",
            "loss = 0.9507284312491204, accuracy = 0.671875\n"
          ]
        }
      ]
    },
    {
      "cell_type": "code",
      "source": [
        "transform = transforms.Compose(\n",
        "        [transforms.GaussianBlur(kernel_size=(5, 9), sigma=(0.1, 5.)),\n",
        "         transforms.ToTensor(),\n",
        "         transforms.Normalize((0.5, 0.5, 0.5), (0.5, 0.5, 0.5))]\n",
        ")\n",
        "\n",
        "train_loader, val_loader, test_loader = get_cifar10_data(batch_size=64, transform_train=transform)\n",
        "\n",
        "net = BasicBlockNet().to(device)\n",
        "optimizer = optim.SGD(net.parameters(), lr=0.1, momentum=0.9)\n",
        "scheduler = optim.lr_scheduler.MultiStepLR(optimizer, milestones=[10, 15], gamma=0.1)\n",
        "tr_loss_log, tr_acc_log, val_loss_log, val_acc_log = train(net, optimizer, 20, train_loader, val_loader, scheduler)\n",
        "loss, accuracy = test(net, test_loader)\n",
        "print(f'loss = {loss}, accuracy = {accuracy}')"
      ],
      "metadata": {
        "colab": {
          "base_uri": "https://localhost:8080/"
        },
        "id": "mCBTxLLS1vlK",
        "outputId": "0e0c2081-fcf9-457c-8296-eabdb788f196"
      },
      "execution_count": null,
      "outputs": [
        {
          "output_type": "stream",
          "name": "stdout",
          "text": [
            "Files already downloaded and verified\n",
            "Files already downloaded and verified\n",
            "Epoch 0\n",
            " train loss: 1.6383870312675044, train acc: 0.40416476234003657\n",
            " val loss: 1.4933007539586818, val acc: 0.45917553191489363\n",
            "\n",
            "Epoch 1\n",
            " train loss: 1.3645629900247132, train acc: 0.5134744711724234\n",
            " val loss: 1.2910058483164362, val acc: 0.545567376055616\n",
            "\n",
            "Epoch 2\n",
            " train loss: 1.2578097872803808, train acc: 0.5552608383856918\n",
            " val loss: 1.2336190216084744, val acc: 0.5672650710065315\n",
            "\n",
            "Epoch 3\n",
            " train loss: 1.2029873654654955, train acc: 0.5775088143740973\n",
            " val loss: 1.1762293422475774, val acc: 0.5871232271194458\n",
            "\n",
            "Epoch 4\n",
            " train loss: 1.155058112288306, train acc: 0.5925910812845178\n",
            " val loss: 1.181400775655787, val acc: 0.5880319148936171\n",
            "\n",
            "Epoch 5\n",
            " train loss: 1.1197059791964195, train acc: 0.6055473034734917\n",
            " val loss: 1.1713626539453548, val acc: 0.5841090425531915\n",
            "\n",
            "Epoch 6\n",
            " train loss: 1.0917206709520038, train acc: 0.6127293353978633\n",
            " val loss: 1.127857818502061, val acc: 0.6013076241980208\n",
            "\n",
            "Epoch 7\n",
            " train loss: 1.0858473269987368, train acc: 0.6172956386257569\n",
            " val loss: 1.0997463282118451, val acc: 0.6166001773895101\n",
            "\n",
            "Epoch 8\n",
            " train loss: 1.067286286428162, train acc: 0.6232289762340036\n",
            " val loss: 1.073255041558692, val acc: 0.6276817377577437\n",
            "\n",
            "Epoch 9\n",
            " train loss: 1.0507886887032545, train acc: 0.6298845978062158\n",
            " val loss: 1.100616107342091, val acc: 0.6224955675449777\n",
            "\n",
            "Epoch 10\n",
            " train loss: 0.9488852184259041, train acc: 0.6718464352095149\n",
            " val loss: 0.9763396922578202, val acc: 0.660970744680851\n",
            "\n",
            "Epoch 11\n",
            " train loss: 0.9308807892380946, train acc: 0.6769065030967949\n",
            " val loss: 0.9787455984886656, val acc: 0.6600177305809996\n",
            "\n",
            "Epoch 12\n",
            " train loss: 0.9233335355736002, train acc: 0.6779797271139225\n",
            " val loss: 0.9687032347029828, val acc: 0.6657579787234043\n",
            "\n",
            "Epoch 13\n",
            " train loss: 0.9202637814080693, train acc: 0.6798364455782735\n",
            " val loss: 0.9617887327011595, val acc: 0.6658687944107867\n",
            "\n",
            "Epoch 14\n",
            " train loss: 0.916693366859687, train acc: 0.6803016453382084\n",
            " val loss: 0.9553865186711575, val acc: 0.6691046100981692\n",
            "\n",
            "Epoch 15\n",
            " train loss: 0.9011536928155959, train acc: 0.6872551580669675\n",
            " val loss: 0.9539316144395382, val acc: 0.669747340425532\n",
            "\n",
            "Epoch 16\n",
            " train loss: 0.8989615945972952, train acc: 0.6892587817129313\n",
            " val loss: 0.9509500658258478, val acc: 0.6701019505237011\n",
            "\n",
            "Epoch 17\n",
            " train loss: 0.8987847981766766, train acc: 0.6897933534338008\n",
            " val loss: 0.9522908682518817, val acc: 0.671343085106383\n",
            "\n",
            "Epoch 18\n",
            " train loss: 0.8950295233639328, train acc: 0.6891486027994801\n",
            " val loss: 0.9499682233688679, val acc: 0.6709219859001484\n",
            "\n",
            "Epoch 19\n",
            " train loss: 0.8984975495547656, train acc: 0.6884303996288362\n",
            " val loss: 0.9471859049289785, val acc: 0.6727171986661059\n",
            "\n",
            "loss = 0.964587158458248, accuracy = 0.6701831210191083\n"
          ]
        }
      ]
    },
    {
      "cell_type": "code",
      "source": [
        "transform = transforms.Compose(\n",
        "        [transforms.RandomGrayscale(p=0.1),\n",
        "         transforms.RandomVerticalFlip(),\n",
        "         transforms.GaussianBlur(kernel_size=(5, 9), sigma=(0.1, 5.)),\n",
        "         transforms.ToTensor(),\n",
        "         transforms.Normalize((0.5, 0.5, 0.5), (0.5, 0.5, 0.5))]\n",
        ")\n",
        "\n",
        "train_loader, val_loader, test_loader = get_cifar10_data(batch_size=64, transform_train=transform)\n",
        "\n",
        "net = BasicBlockNet().to(device)\n",
        "optimizer = optim.SGD(net.parameters(), lr=0.1, momentum=0.9)\n",
        "scheduler = optim.lr_scheduler.MultiStepLR(optimizer, milestones=[10, 15], gamma=0.1)\n",
        "tr_loss_log, tr_acc_log, val_loss_log, val_acc_log = train(net, optimizer, 20, train_loader, val_loader, scheduler)\n",
        "loss, accuracy = test(net, test_loader)\n",
        "print(f'loss = {loss}, accuracy = {accuracy}')"
      ],
      "metadata": {
        "colab": {
          "base_uri": "https://localhost:8080/"
        },
        "id": "wNkilhop13VE",
        "outputId": "0004e1c2-9523-40d1-dc79-90a77974d0f9"
      },
      "execution_count": null,
      "outputs": [
        {
          "output_type": "stream",
          "name": "stdout",
          "text": [
            "Files already downloaded and verified\n",
            "Files already downloaded and verified\n",
            "Epoch 0\n",
            " train loss: 1.8297939481421406, train acc: 0.33695971535372343\n",
            " val loss: 1.7038946166951605, val acc: 0.37734929082241464\n",
            "\n",
            "Epoch 1\n",
            " train loss: 1.6683097397823439, train acc: 0.4017000196184929\n",
            " val loss: 1.6134973906456156, val acc: 0.4193927305809995\n",
            "\n",
            "Epoch 2\n",
            " train loss: 1.6126097516996116, train acc: 0.4233236485033192\n",
            " val loss: 1.5618599404679967, val acc: 0.446343085106383\n",
            "\n",
            "Epoch 3\n",
            " train loss: 1.5768642329646638, train acc: 0.440168777811026\n",
            " val loss: 1.5835207994948042, val acc: 0.43550531914893614\n",
            "\n",
            "Epoch 4\n",
            " train loss: 1.5356218108747297, train acc: 0.4508316466751657\n",
            " val loss: 1.5308290364894461, val acc: 0.4556959220703612\n",
            "\n",
            "Epoch 5\n",
            " train loss: 1.5221052132751214, train acc: 0.4560916688586066\n",
            " val loss: 1.5173707119962003, val acc: 0.4604831561129144\n",
            "\n",
            "Epoch 6\n",
            " train loss: 1.4952439723546587, train acc: 0.4664484853064556\n",
            " val loss: 1.4691611878415372, val acc: 0.4767287234042553\n",
            "\n",
            "Epoch 7\n",
            " train loss: 1.4935574505403229, train acc: 0.46791753723154994\n",
            " val loss: 1.509768166947872, val acc: 0.4660682624958931\n",
            "\n",
            "Epoch 8\n",
            " train loss: 1.4798601174921178, train acc: 0.47381822936495654\n",
            " val loss: 1.4496421930637766, val acc: 0.4870567376309253\n",
            "\n",
            "Epoch 9\n",
            " train loss: 1.4665919717748597, train acc: 0.48015147567449146\n",
            " val loss: 1.5069685570737148, val acc: 0.46941489361702127\n",
            "\n",
            "Epoch 10\n",
            " train loss: 1.3635445122744962, train acc: 0.5183305040791876\n",
            " val loss: 1.3723718404769898, val acc: 0.5140514184819891\n",
            "\n",
            "Epoch 11\n",
            " train loss: 1.3470970968659661, train acc: 0.52571249029972\n",
            " val loss: 1.3584242592466638, val acc: 0.5194370567798614\n",
            "\n",
            "Epoch 12\n",
            " train loss: 1.3439239328914412, train acc: 0.5285322538677474\n",
            " val loss: 1.3795830138186191, val acc: 0.5131205674181594\n",
            "\n",
            "Epoch 13\n",
            " train loss: 1.3406130725984382, train acc: 0.5269856686130084\n",
            " val loss: 1.3496018977875406, val acc: 0.5221187944107867\n",
            "\n",
            "Epoch 14\n",
            " train loss: 1.3366778513631175, train acc: 0.5278018085895553\n",
            " val loss: 1.3488382615941636, val acc: 0.5257535461415636\n",
            "\n",
            "Epoch 15\n",
            " train loss: 1.323448507724776, train acc: 0.5330455079810928\n",
            " val loss: 1.3314830044482617, val acc: 0.5256205674181593\n",
            "\n",
            "Epoch 16\n",
            " train loss: 1.3215703257041178, train acc: 0.5353266192528622\n",
            " val loss: 1.3310120963035745, val acc: 0.5295434398854032\n",
            "\n",
            "Epoch 17\n",
            " train loss: 1.3221356605045103, train acc: 0.5314989227263539\n",
            " val loss: 1.3408434015639286, val acc: 0.5269725178150421\n",
            "\n",
            "Epoch 18\n",
            " train loss: 1.3200430681544204, train acc: 0.5371547728177616\n",
            " val loss: 1.334364309716732, val acc: 0.5277039007937655\n",
            "\n",
            "Epoch 19\n",
            " train loss: 1.3197342407986712, train acc: 0.5331516062101891\n",
            " val loss: 1.3340445774666807, val acc: 0.5276374114320633\n",
            "\n",
            "loss = 1.2701405434851434, accuracy = 0.5535429936305732\n"
          ]
        }
      ]
    },
    {
      "cell_type": "markdown",
      "metadata": {
        "id": "4K-MptLiO9Dv",
        "pycharm": {
          "name": "#%% md\n"
        }
      },
      "source": [
        "Как видим, учлушить не получилось, но сравнимым был gray_scale. С человеческой точки зрения это логично, т.к. мы просто изменили цвета на картинке, распознавать тяжелее нам не стало. Возможно остальные аугментации имели бы смысл, коль больше эпох мы попробовали (не давали бы переобучиться), т.к. пока есть основания полагать, что наша модеь еще имеет потенциал для улучшения. Заметим, что совокупность хуже чем каждый по отдельности, т.к. возможно таким образом мы слишком сильно запутываем нейросеть и получаем то, что получаем."
      ]
    },
    {
      "cell_type": "markdown",
      "metadata": {
        "id": "HCENjLw5O9Dv",
        "pycharm": {
          "name": "#%% md\n"
        }
      },
      "source": [
        "## Бонус. Логирование в wandb (2 балла)"
      ]
    },
    {
      "cell_type": "markdown",
      "metadata": {
        "id": "xOyzc1mnO9Dv",
        "pycharm": {
          "name": "#%% md\n"
        }
      },
      "source": [
        "На практике специалиста по глубинному обучению часто встречаются ситуации, когда нейросеть учится на каком-то удаленном сервере. И обычно вам хочется отслеживать прогресс обучения, особенно когда время обучения модели исчисляется днями или неделями. Для таких целей существует несколько инструментов. Вероятно, самый популярный из них — [wandb](https://wandb.ai/site).\n",
        "\n",
        "Ваша задача состоит в том, чтобы разобраться как им пользоваться, и повторить задания 2.1 и 2.2 с его использованием. Обучение вы можете запускать в этом же ноутбуке, но теперь вам необходимо через wandb логировать значения функции потерь и точности на обучающей выборке и на валидационной. Результатом работы должны быть ваш код и публичная ссылка на страничку с графиками, идентичными графикам в задании 2.2."
      ]
    },
    {
      "cell_type": "code",
      "execution_count": null,
      "metadata": {
        "id": "m5gSTLAr_QS4",
        "pycharm": {
          "name": "#%%\n"
        },
        "colab": {
          "base_uri": "https://localhost:8080/"
        },
        "outputId": "78939fac-c0e4-4efd-a62f-cf1301f58bf2"
      },
      "outputs": [
        {
          "output_type": "stream",
          "name": "stdout",
          "text": [
            "Requirement already satisfied: wandb in /usr/local/lib/python3.10/dist-packages (0.18.7)\n",
            "Requirement already satisfied: click!=8.0.0,>=7.1 in /usr/local/lib/python3.10/dist-packages (from wandb) (8.1.7)\n",
            "Requirement already satisfied: docker-pycreds>=0.4.0 in /usr/local/lib/python3.10/dist-packages (from wandb) (0.4.0)\n",
            "Requirement already satisfied: gitpython!=3.1.29,>=1.0.0 in /usr/local/lib/python3.10/dist-packages (from wandb) (3.1.43)\n",
            "Requirement already satisfied: platformdirs in /usr/local/lib/python3.10/dist-packages (from wandb) (4.3.6)\n",
            "Requirement already satisfied: protobuf!=4.21.0,!=5.28.0,<6,>=3.19.0 in /usr/local/lib/python3.10/dist-packages (from wandb) (4.25.5)\n",
            "Requirement already satisfied: psutil>=5.0.0 in /usr/local/lib/python3.10/dist-packages (from wandb) (5.9.5)\n",
            "Requirement already satisfied: pyyaml in /usr/local/lib/python3.10/dist-packages (from wandb) (6.0.2)\n",
            "Requirement already satisfied: requests<3,>=2.0.0 in /usr/local/lib/python3.10/dist-packages (from wandb) (2.32.3)\n",
            "Requirement already satisfied: sentry-sdk>=2.0.0 in /usr/local/lib/python3.10/dist-packages (from wandb) (2.18.0)\n",
            "Requirement already satisfied: setproctitle in /usr/local/lib/python3.10/dist-packages (from wandb) (1.3.3)\n",
            "Requirement already satisfied: setuptools in /usr/local/lib/python3.10/dist-packages (from wandb) (75.1.0)\n",
            "Requirement already satisfied: typing-extensions<5,>=4.4 in /usr/local/lib/python3.10/dist-packages (from wandb) (4.12.2)\n",
            "Requirement already satisfied: six>=1.4.0 in /usr/local/lib/python3.10/dist-packages (from docker-pycreds>=0.4.0->wandb) (1.16.0)\n",
            "Requirement already satisfied: gitdb<5,>=4.0.1 in /usr/local/lib/python3.10/dist-packages (from gitpython!=3.1.29,>=1.0.0->wandb) (4.0.11)\n",
            "Requirement already satisfied: charset-normalizer<4,>=2 in /usr/local/lib/python3.10/dist-packages (from requests<3,>=2.0.0->wandb) (3.4.0)\n",
            "Requirement already satisfied: idna<4,>=2.5 in /usr/local/lib/python3.10/dist-packages (from requests<3,>=2.0.0->wandb) (3.10)\n",
            "Requirement already satisfied: urllib3<3,>=1.21.1 in /usr/local/lib/python3.10/dist-packages (from requests<3,>=2.0.0->wandb) (2.2.3)\n",
            "Requirement already satisfied: certifi>=2017.4.17 in /usr/local/lib/python3.10/dist-packages (from requests<3,>=2.0.0->wandb) (2024.8.30)\n",
            "Requirement already satisfied: smmap<6,>=3.0.1 in /usr/local/lib/python3.10/dist-packages (from gitdb<5,>=4.0.1->gitpython!=3.1.29,>=1.0.0->wandb) (5.0.1)\n"
          ]
        }
      ],
      "source": [
        "!pip install wandb\n",
        "import wandb"
      ]
    },
    {
      "cell_type": "code",
      "source": [
        "wandb.login()"
      ],
      "metadata": {
        "colab": {
          "base_uri": "https://localhost:8080/"
        },
        "id": "UIfxfVt-teYa",
        "outputId": "a1286e3c-b4a5-4dc0-c0fe-9a71accbd02e"
      },
      "execution_count": null,
      "outputs": [
        {
          "output_type": "execute_result",
          "data": {
            "text/plain": [
              "True"
            ]
          },
          "metadata": {},
          "execution_count": 22
        }
      ]
    },
    {
      "cell_type": "code",
      "source": [
        "wandb.init(\n",
        "    project=\"my-awesome-project\",\n",
        "\n",
        "    config={\n",
        "    \"learning_rate\": 0.1,\n",
        "    \"architecture\": \"CNN\",\n",
        "    \"dataset\": \"CIFAR-100\",\n",
        "    \"epochs\": 20,\n",
        "    }\n",
        ")"
      ],
      "metadata": {
        "colab": {
          "base_uri": "https://localhost:8080/",
          "height": 145
        },
        "id": "Msalugnfpy9y",
        "outputId": "91167659-e1df-4f96-b6ac-d72507ea5b3b"
      },
      "execution_count": null,
      "outputs": [
        {
          "output_type": "display_data",
          "data": {
            "text/plain": [
              "<IPython.core.display.HTML object>"
            ],
            "text/html": [
              "Tracking run with wandb version 0.18.7"
            ]
          },
          "metadata": {}
        },
        {
          "output_type": "display_data",
          "data": {
            "text/plain": [
              "<IPython.core.display.HTML object>"
            ],
            "text/html": [
              "Run data is saved locally in <code>/content/wandb/run-20241118_202212-iul1g7zj</code>"
            ]
          },
          "metadata": {}
        },
        {
          "output_type": "display_data",
          "data": {
            "text/plain": [
              "<IPython.core.display.HTML object>"
            ],
            "text/html": [
              "Syncing run <strong><a href='https://wandb.ai/artempotarusov-/my-awesome-project/runs/iul1g7zj' target=\"_blank\">royal-silence-2</a></strong> to <a href='https://wandb.ai/artempotarusov-/my-awesome-project' target=\"_blank\">Weights & Biases</a> (<a href='https://wandb.me/developer-guide' target=\"_blank\">docs</a>)<br/>"
            ]
          },
          "metadata": {}
        },
        {
          "output_type": "display_data",
          "data": {
            "text/plain": [
              "<IPython.core.display.HTML object>"
            ],
            "text/html": [
              " View project at <a href='https://wandb.ai/artempotarusov-/my-awesome-project' target=\"_blank\">https://wandb.ai/artempotarusov-/my-awesome-project</a>"
            ]
          },
          "metadata": {}
        },
        {
          "output_type": "display_data",
          "data": {
            "text/plain": [
              "<IPython.core.display.HTML object>"
            ],
            "text/html": [
              " View run at <a href='https://wandb.ai/artempotarusov-/my-awesome-project/runs/iul1g7zj' target=\"_blank\">https://wandb.ai/artempotarusov-/my-awesome-project/runs/iul1g7zj</a>"
            ]
          },
          "metadata": {}
        },
        {
          "output_type": "execute_result",
          "data": {
            "text/html": [
              "<button onClick=\"this.nextSibling.style.display='block';this.style.display='none';\">Display W&B run</button><iframe src='https://wandb.ai/artempotarusov-/my-awesome-project/runs/iul1g7zj?jupyter=true' style='border:none;width:100%;height:420px;display:none;'></iframe>"
            ],
            "text/plain": [
              "<wandb.sdk.wandb_run.Run at 0x7c5905b56ec0>"
            ]
          },
          "metadata": {},
          "execution_count": 23
        }
      ]
    },
    {
      "cell_type": "code",
      "source": [
        "def test(model, loader):\n",
        "    loss_log = []\n",
        "    acc_log = []\n",
        "    model.eval()\n",
        "\n",
        "    for data, target in loader:\n",
        "\n",
        "        data = data.to(device)\n",
        "        target = target.to(device)\n",
        "\n",
        "        with torch.no_grad():\n",
        "            logits = model(data)\n",
        "            loss = F.cross_entropy(logits, target)\n",
        "\n",
        "        loss_log.append(loss.item())\n",
        "\n",
        "        acc = (logits.argmax(dim=1) == target).sum() / target.shape[0]\n",
        "        acc_log.append(acc.item())\n",
        "\n",
        "        acc_log.append(acc.item())\n",
        "\n",
        "    return np.mean(loss_log), np.mean(acc_log)\n",
        "\n",
        "def train_epoch(model, optimizer, train_loader):\n",
        "    loss_log = []\n",
        "    acc_log = []\n",
        "    model.train()\n",
        "\n",
        "    for data, target in train_loader:\n",
        "        data = data.to(device)\n",
        "        target = target.to(device)\n",
        "\n",
        "        optimizer.zero_grad()\n",
        "        logits = model(data)\n",
        "        loss = F.cross_entropy(logits, target)\n",
        "        loss.backward()\n",
        "        optimizer.step()\n",
        "\n",
        "        loss_log.append(loss.item())\n",
        "\n",
        "        acc = (logits.argmax(dim=1) == target).sum() / target.shape[0]\n",
        "        acc_log.append(acc.item())\n",
        "\n",
        "        acc_log.append(acc.item())\n",
        "\n",
        "    return loss_log, acc_log\n",
        "\n",
        "def train(model, optimizer, n_epochs, train_loader, val_loader, scheduler=None):\n",
        "    train_loss_log, train_acc_log, val_loss_log, val_acc_log = [], [], [], []\n",
        "\n",
        "    for epoch in range(n_epochs):\n",
        "        train_loss, train_acc = train_epoch(model, optimizer, train_loader)\n",
        "        val_loss, val_acc = test(model, val_loader)\n",
        "\n",
        "        train_loss_log.extend(train_loss)\n",
        "        train_acc_log.extend(train_acc)\n",
        "\n",
        "        val_loss_log.append(val_loss)\n",
        "        val_acc_log.append(val_acc)\n",
        "\n",
        "        wandb.log({'train_loss':np.mean(train_loss), 'train_acc':np.mean(train_acc), 'val_loss':val_loss, 'val acc':val_acc})\n",
        "\n",
        "        if scheduler is not None:\n",
        "            scheduler.step()\n",
        "\n",
        "    return train_loss_log, train_acc_log, val_loss_log, val_acc_log"
      ],
      "metadata": {
        "id": "yIcdzz7tuCtB"
      },
      "execution_count": null,
      "outputs": []
    },
    {
      "cell_type": "code",
      "source": [
        "transform = transforms.Compose(\n",
        "        [transforms.ToTensor(),\n",
        "         transforms.Normalize((0.5, 0.5, 0.5), (0.5, 0.5, 0.5))]\n",
        ")\n",
        "\n",
        "train_loader, val_loader, test_loader = get_cifar10_data(batch_size=64,\n",
        "                                                         transform_train=transform)"
      ],
      "metadata": {
        "colab": {
          "base_uri": "https://localhost:8080/"
        },
        "id": "tT1z4rnWu_O5",
        "outputId": "d518d180-450b-46fc-eb25-fc2a0cf47cc3"
      },
      "execution_count": null,
      "outputs": [
        {
          "output_type": "stream",
          "name": "stdout",
          "text": [
            "Files already downloaded and verified\n",
            "Files already downloaded and verified\n"
          ]
        }
      ]
    },
    {
      "cell_type": "code",
      "source": [
        "net = BasicBlockNet().to(device)\n",
        "optimizer = optim.SGD(net.parameters(), lr=0.1, momentum=0.9)\n",
        "train_loss_log, train_acc_log, val_loss_log, val_acc_log = train(net, optimizer, 20, train_loader, val_loader)\n",
        "wandb.finish()"
      ],
      "metadata": {
        "colab": {
          "base_uri": "https://localhost:8080/",
          "height": 255
        },
        "id": "1Y8i5tGFvTq2",
        "outputId": "74a3bc84-aeab-40b3-addf-d9ffaae5d8a1"
      },
      "execution_count": null,
      "outputs": [
        {
          "output_type": "display_data",
          "data": {
            "text/plain": [
              "<IPython.core.display.HTML object>"
            ],
            "text/html": [
              "\n",
              "    <style>\n",
              "        .wandb-row {\n",
              "            display: flex;\n",
              "            flex-direction: row;\n",
              "            flex-wrap: wrap;\n",
              "            justify-content: flex-start;\n",
              "            width: 100%;\n",
              "        }\n",
              "        .wandb-col {\n",
              "            display: flex;\n",
              "            flex-direction: column;\n",
              "            flex-basis: 100%;\n",
              "            flex: 1;\n",
              "            padding: 10px;\n",
              "        }\n",
              "    </style>\n",
              "<div class=\"wandb-row\"><div class=\"wandb-col\"><h3>Run history:</h3><br/><table class=\"wandb\"><tr><td>train_acc</td><td>▁▄▅▆▆▇▇▇▇▇▇▇▇███████</td></tr><tr><td>train_loss</td><td>█▅▄▃▃▃▂▂▂▂▂▂▂▁▁▁▁▁▁▁</td></tr><tr><td>val acc</td><td>▁▄▅▆▅▆▆▇▇▇▇▇▇███▅███</td></tr><tr><td>val_loss</td><td>█▅▅▃▄▃▃▂▂▂▃▂▂▂▁▁▄▁▁▁</td></tr></table><br/></div><div class=\"wandb-col\"><h3>Run summary:</h3><br/><table class=\"wandb\"><tr><td>train_acc</td><td>0.74138</td></tr><tr><td>train_loss</td><td>0.74077</td></tr><tr><td>val acc</td><td>0.70851</td></tr><tr><td>val_loss</td><td>0.85585</td></tr></table><br/></div></div>"
            ]
          },
          "metadata": {}
        },
        {
          "output_type": "display_data",
          "data": {
            "text/plain": [
              "<IPython.core.display.HTML object>"
            ],
            "text/html": [
              " View run <strong style=\"color:#cdcd00\">royal-silence-2</strong> at: <a href='https://wandb.ai/artempotarusov-/my-awesome-project/runs/iul1g7zj' target=\"_blank\">https://wandb.ai/artempotarusov-/my-awesome-project/runs/iul1g7zj</a><br/> View project at: <a href='https://wandb.ai/artempotarusov-/my-awesome-project' target=\"_blank\">https://wandb.ai/artempotarusov-/my-awesome-project</a><br/>Synced 5 W&B file(s), 0 media file(s), 0 artifact file(s) and 0 other file(s)"
            ]
          },
          "metadata": {}
        },
        {
          "output_type": "display_data",
          "data": {
            "text/plain": [
              "<IPython.core.display.HTML object>"
            ],
            "text/html": [
              "Find logs at: <code>./wandb/run-20241118_202212-iul1g7zj/logs</code>"
            ]
          },
          "metadata": {}
        }
      ]
    },
    {
      "cell_type": "markdown",
      "source": [
        "Ссылки выше вроде как как раз ведут на графики."
      ],
      "metadata": {
        "id": "c-gJA5_B4iE2"
      }
    }
  ],
  "metadata": {
    "accelerator": "GPU",
    "colab": {
      "provenance": [],
      "gpuType": "T4"
    },
    "kernelspec": {
      "display_name": "Python 3",
      "name": "python3"
    },
    "language_info": {
      "codemirror_mode": {
        "name": "ipython",
        "version": 3
      },
      "file_extension": ".py",
      "mimetype": "text/x-python",
      "name": "python",
      "nbconvert_exporter": "python",
      "pygments_lexer": "ipython3",
      "version": "3.10.4"
    }
  },
  "nbformat": 4,
  "nbformat_minor": 0
}