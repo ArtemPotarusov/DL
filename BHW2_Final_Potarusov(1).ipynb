{
 "cells": [
  {
   "cell_type": "code",
   "execution_count": null,
   "id": "ff9282f8-7bd4-4b85-94d8-c855bea67755",
   "metadata": {
    "tags": []
   },
   "outputs": [],
   "source": [
    "pip install sacrebleu wandb"
   ]
  },
  {
   "cell_type": "markdown",
   "id": "2d29429d",
   "metadata": {},
   "source": [
    "https://wandb.ai/artempotarusov-/bhw-checkpoint/reports/BHW-2-Final--VmlldzoxMTc1OTY2Ng"
   ]
  },
  {
   "cell_type": "code",
   "execution_count": null,
   "id": "aba1332b-1a42-4e12-80be-d8bc062cc9ad",
   "metadata": {
    "tags": []
   },
   "outputs": [],
   "source": [
    "import os\n",
    "import zipfile\n",
    "import math\n",
    "import time\n",
    "import torch\n",
    "import torchtext\n",
    "import wandb\n",
    "import sacrebleu\n",
    "from torch import nn, optim\n",
    "from torch.utils.data import DataLoader, Dataset\n",
    "from torchtext.vocab import build_vocab_from_iterator\n",
    "from collections import Counter\n",
    "from tqdm import tqdm"
   ]
  },
  {
   "cell_type": "code",
   "execution_count": null,
   "id": "f69d4591-15a9-4c6d-86ab-c7ead8d47b30",
   "metadata": {
    "tags": []
   },
   "outputs": [],
   "source": [
    "def load_data_from_zip(file_path):\n",
    "    with open(file_path, encoding=\"utf-8\") as f:\n",
    "        content = f.read()\n",
    "    return content.strip().split(\"\\n\")\n",
    "\n",
    "def yield_tokens_from_lines(lines):\n",
    "    for line in lines:\n",
    "        yield line.split()\n",
    "\n",
    "def collate_fn(batch):\n",
    "    src_batch, tgt_batch = zip(*batch)\n",
    "    src_padded = nn.utils.rnn.pad_sequence(src_batch, batch_first=True, padding_value=src_vocab[\"<pad>\"])\n",
    "    tgt_padded = nn.utils.rnn.pad_sequence(tgt_batch, batch_first=True, padding_value=tgt_vocab[\"<pad>\"])\n",
    "    return src_padded, tgt_padded"
   ]
  },
  {
   "cell_type": "code",
   "execution_count": null,
   "id": "10e2d223-79c0-488b-8665-b32ed0190e76",
   "metadata": {
    "tags": []
   },
   "outputs": [],
   "source": [
    "class PositionalEncoding(nn.Module):\n",
    "    def __init__(self, d_model, dropout=0.1, max_len=5000):\n",
    "        super(PositionalEncoding, self).__init__()\n",
    "        self.dropout = nn.Dropout(dropout)\n",
    "        pe = torch.zeros(max_len, d_model)\n",
    "        position = torch.arange(0, max_len, dtype=torch.float32).unsqueeze(1)\n",
    "        div_term = torch.exp(torch.arange(0, d_model, 2, dtype=torch.float32) * (-math.log(10000.0)/d_model))\n",
    "        pe[:, 0::2] = torch.sin(position * div_term)\n",
    "        pe[:, 1::2] = torch.cos(position * div_term)\n",
    "        pe = pe.unsqueeze(0)\n",
    "        self.register_buffer('pe', pe)\n",
    "    def forward(self, x):\n",
    "        x = x + self.pe[:, :x.size(1)]\n",
    "        return self.dropout(x)"
   ]
  },
  {
   "cell_type": "code",
   "execution_count": null,
   "id": "f5548573-9ee7-4dc9-bb9c-508976855a23",
   "metadata": {
    "tags": []
   },
   "outputs": [],
   "source": [
    "class TranslationDataset(Dataset):\n",
    "    def __init__(self, src_sentences, tgt_sentences=None, src_vocab=None, tgt_vocab=None):\n",
    "        self.src_sentences = src_sentences\n",
    "        self.tgt_sentences = tgt_sentences\n",
    "        self.src_vocab = src_vocab\n",
    "        self.tgt_vocab = tgt_vocab\n",
    "\n",
    "    def numericalize(self, sentence, vocab, add_tokens=False):\n",
    "        tokens = sentence.split()\n",
    "        if add_tokens:\n",
    "            tokens = [\"<bos>\"] + tokens + [\"<eos>\"]\n",
    "        return [vocab[tok] for tok in tokens]\n",
    "\n",
    "    def __len__(self):\n",
    "        return len(self.src_sentences)\n",
    "\n",
    "    def __getitem__(self, idx):\n",
    "        src_indices = self.numericalize(self.src_sentences[idx], self.src_vocab, add_tokens=False)\n",
    "        if self.tgt_sentences is not None:\n",
    "            tgt_indices = self.numericalize(self.tgt_sentences[idx], self.tgt_vocab, add_tokens=True)\n",
    "            return torch.tensor(src_indices), torch.tensor(tgt_indices)\n",
    "        else:\n",
    "            return torch.tensor(src_indices)"
   ]
  },
  {
   "cell_type": "code",
   "execution_count": null,
   "id": "0a731234-2830-4aae-a106-aaae3e5fb2f6",
   "metadata": {
    "tags": []
   },
   "outputs": [],
   "source": [
    "class TransformerMT(nn.Module):\n",
    "    def __init__(self, src_vocab_size, tgt_vocab_size, src_pad_idx, tgt_pad_idx,\n",
    "                 d_model=512, nhead=8, num_encoder_layers=6, num_decoder_layers=6,\n",
    "                 dim_feedforward=2048, dropout=0.1):\n",
    "        super(TransformerMT, self).__init__()\n",
    "        self.d_model = d_model\n",
    "        self.src_pad_idx = src_pad_idx\n",
    "        self.tgt_pad_idx = tgt_pad_idx\n",
    "        self.src_embedding = nn.Embedding(src_vocab_size, d_model)\n",
    "        self.tgt_embedding = nn.Embedding(tgt_vocab_size, d_model)\n",
    "        self.pos_encoder = PositionalEncoding(d_model, dropout)\n",
    "        self.pos_decoder = PositionalEncoding(d_model, dropout)\n",
    "        self.transformer = nn.Transformer(d_model, nhead, num_encoder_layers,\n",
    "                                          num_decoder_layers, dim_feedforward, dropout)\n",
    "        self.fc_out = nn.Linear(d_model, tgt_vocab_size)\n",
    "\n",
    "    def generate_square_subsequent_mask(self, sz):\n",
    "        mask = (torch.triu(torch.ones((sz, sz))) == 1).transpose(0, 1)\n",
    "        mask = mask.float().masked_fill(mask == 0, float('-inf')).masked_fill(mask == 1, 0.0)\n",
    "        return mask\n",
    "\n",
    "    def encode(self, src, src_mask):\n",
    "        src_padding_mask = (src == self.src_pad_idx).to(src.device)\n",
    "        src_emb = self.pos_encoder(self.src_embedding(src) * math.sqrt(self.d_model))\n",
    "        src_emb = src_emb.transpose(0, 1)\n",
    "        memory = self.transformer.encoder(src_emb, src_key_padding_mask=src_padding_mask)\n",
    "        return memory\n",
    "\n",
    "    def decode(self, tgt, memory, tgt_mask):\n",
    "        tgt_padding_mask = (tgt == self.tgt_pad_idx).to(tgt.device)\n",
    "        tgt_emb = self.pos_decoder(self.tgt_embedding(tgt) * math.sqrt(self.d_model))\n",
    "        tgt_emb = tgt_emb.transpose(0, 1)\n",
    "        out = self.transformer.decoder(tgt_emb, memory, tgt_mask=tgt_mask,\n",
    "                                       tgt_key_padding_mask=tgt_padding_mask)\n",
    "        return out\n",
    "\n",
    "    def forward(self, src, tgt):\n",
    "        src_padding_mask = (src == self.src_pad_idx).to(src.device)\n",
    "        tgt_padding_mask = (tgt == self.tgt_pad_idx).to(tgt.device)\n",
    "        tgt_mask = self.generate_square_subsequent_mask(tgt.size(1)).to(tgt.device)\n",
    "        src_emb = self.pos_encoder(self.src_embedding(src) * math.sqrt(self.d_model))\n",
    "        tgt_emb = self.pos_decoder(self.tgt_embedding(tgt) * math.sqrt(self.d_model))\n",
    "        src_emb = src_emb.transpose(0, 1)\n",
    "        tgt_emb = tgt_emb.transpose(0, 1)\n",
    "        out = self.transformer(src_emb, tgt_emb, tgt_mask=tgt_mask,\n",
    "                               src_key_padding_mask=src_padding_mask,\n",
    "                               tgt_key_padding_mask=tgt_padding_mask,\n",
    "                               memory_key_padding_mask=src_padding_mask)\n",
    "        out = self.fc_out(out)\n",
    "        return out.transpose(0, 1)"
   ]
  },
  {
   "cell_type": "code",
   "execution_count": null,
   "id": "89488b74-3922-4dca-bf2f-a49a062ea123",
   "metadata": {
    "tags": []
   },
   "outputs": [],
   "source": [
    "@torch.no_grad()\n",
    "def greedy_decode_new(model, src, src_mask, max_len, start_symbol, end_symbol):\n",
    "    if hasattr(model, \"module\"):\n",
    "        model = model.module\n",
    "    device = src.device\n",
    "    src = src.unsqueeze(0)\n",
    "    src_mask = src_mask.to(device)\n",
    "    memory = model.encode(src, src_mask)\n",
    "    result = torch.full((1, 1), start_symbol, dtype=torch.long).to(device)\n",
    "    for _ in range(max_len - 1):\n",
    "        tgt_mask = model.generate_square_subsequent_mask(result.size(1)).to(device)\n",
    "        out = model.decode(result, memory, tgt_mask)\n",
    "        out = out.transpose(0, 1)\n",
    "        logits = model.fc_out(out[:, -1, :])\n",
    "        _, next_word = torch.max(logits, dim=1)\n",
    "        next_word = next_word.item()\n",
    "        result = torch.cat([result, torch.tensor([[next_word]], device=device)], dim=1)\n",
    "        if next_word == end_symbol:\n",
    "            break\n",
    "    return result.squeeze(0)"
   ]
  },
  {
   "cell_type": "code",
   "execution_count": null,
   "id": "e1375b07-4a9a-4950-b752-44e5bd13a714",
   "metadata": {
    "tags": []
   },
   "outputs": [],
   "source": [
    "def train_epoch(model, dataloader, optimizer, criterion, scheduler, clip=1.0):\n",
    "    model.train()\n",
    "    total_loss = 0\n",
    "    for src_batch, tgt_batch in tqdm(dataloader, desc=\"Training\"):\n",
    "        src_batch, tgt_batch = src_batch.to(device), tgt_batch.to(device)\n",
    "        tgt_input = tgt_batch[:, :-1]\n",
    "        tgt_output = tgt_batch[:, 1:]\n",
    "        optimizer.zero_grad()\n",
    "        output = model(src_batch, tgt_input)\n",
    "        loss = criterion(output.reshape(-1, output.shape[-1]), tgt_output.reshape(-1))\n",
    "        loss.backward()\n",
    "        nn.utils.clip_grad_norm_(model.parameters(), clip)\n",
    "        optimizer.step()\n",
    "        lr = scheduler.step()\n",
    "        total_loss += loss.item()\n",
    "        wandb.log({\"batch_loss\": loss.item()})\n",
    "    return total_loss / len(dataloader)"
   ]
  },
  {
   "cell_type": "code",
   "execution_count": null,
   "id": "00473ac8-b475-413a-830b-dbdc1b1bccc4",
   "metadata": {
    "tags": []
   },
   "outputs": [],
   "source": [
    "def evaluate(model, dataloader, criterion):\n",
    "    model.eval()\n",
    "    total_loss = 0\n",
    "    with torch.no_grad():\n",
    "        for src_batch, tgt_batch in tqdm(dataloader, desc=\"Evaluating\"):\n",
    "            src_batch, tgt_batch = src_batch.to(device), tgt_batch.to(device)\n",
    "            tgt_input = tgt_batch[:, :-1]\n",
    "            tgt_output = tgt_batch[:, 1:]\n",
    "            output = model(src_batch, tgt_input)\n",
    "            loss = criterion(output.reshape(-1, output.shape[-1]), tgt_output.reshape(-1))\n",
    "            total_loss += loss.item()\n",
    "    return total_loss / len(dataloader)"
   ]
  },
  {
   "cell_type": "code",
   "execution_count": null,
   "id": "67bc4fb4-5ee5-4891-9971-81b4c3fcd1bb",
   "metadata": {
    "tags": []
   },
   "outputs": [],
   "source": [
    "class WarmupInverseSquareRootSchedule:\n",
    "    def __init__(self, optimizer, warmup_steps, d_model):\n",
    "        self.optimizer = optimizer\n",
    "        self.warmup_steps = warmup_steps\n",
    "        self.d_model = d_model\n",
    "        self.current_step = 0\n",
    "        self.scale = d_model ** (-0.5)\n",
    "\n",
    "    def step(self):\n",
    "        self.current_step += 1\n",
    "        arg1 = self.current_step ** (-0.5)\n",
    "        arg2 = self.current_step * (self.warmup_steps ** (-1.5))\n",
    "        lr = self.scale * min(arg1, arg2)\n",
    "        for param_group in self.optimizer.param_groups:\n",
    "            param_group['lr'] = lr\n",
    "        return lr"
   ]
  },
  {
   "cell_type": "code",
   "execution_count": null,
   "id": "1f33d4a6-fb54-4359-b879-decdce9dfed8",
   "metadata": {
    "tags": []
   },
   "outputs": [],
   "source": [
    "wandb.init(project=\"bhw-checkpoint\", config={\n",
    "        \"d_model\": 512,\n",
    "        \"nhead\": 8,\n",
    "        \"num_encoder_layers\": 4,\n",
    "        \"num_decoder_layers\": 4,\n",
    "        \"dim_feedforward\": 512,\n",
    "        \"dropout\": 0.2,\n",
    "        \"batch_size\": 64,\n",
    "        \"epochs\": 20,\n",
    "        \"lr\": 3e-4,\n",
    "        \"warmup_steps\": 10000\n",
    "    })\n",
    "config = wandb.config"
   ]
  },
  {
   "cell_type": "code",
   "execution_count": null,
   "id": "ff4c4941-87d9-45de-a24e-f2c83ad2d778",
   "metadata": {
    "tags": []
   },
   "outputs": [],
   "source": [
    "train_src_lines = load_data_from_zip(\"/home/jupyter/datasphere/datasets/bhw2/train.de-en.de\")\n",
    "train_tgt_lines = load_data_from_zip(\"/home/jupyter/datasphere/datasets/bhw2/train.de-en.en\")\n",
    "valid_src_lines = load_data_from_zip(\"/home/jupyter/datasphere/datasets/bhw2/val.de-en.de\")\n",
    "valid_tgt_lines = load_data_from_zip(\"/home/jupyter/datasphere/datasets/bhw2/val.de-en.en\")\n",
    "test_src_lines = load_data_from_zip(\"/home/jupyter/datasphere/datasets/bhw2/test1.de-en.de\")\n",
    "\n",
    "global special_symbols\n",
    "special_symbols = {\n",
    "        \"<unk>\":2,\n",
    "        \"<pad>\":3,\n",
    "        \"<bos>\":0,\n",
    "        \"<eos>\":1\n",
    "    }\n",
    "specials = [\"<bos>\", \"<eos>\", \"<unk>\", \"<pad>\"]\n",
    "global src_vocab, tgt_vocab, inv_tgt_vocab\n",
    "src_vocab = build_vocab_from_iterator(yield_tokens_from_lines(train_src_lines),\n",
    "                                      min_freq=10,\n",
    "                                      specials=specials,\n",
    "                                      special_first=True)\n",
    "tgt_vocab = build_vocab_from_iterator(yield_tokens_from_lines(train_tgt_lines),\n",
    "                                      min_freq=10,\n",
    "                                      specials=specials,\n",
    "                                      special_first=True)\n",
    "\n",
    "src_vocab.set_default_index(src_vocab[\"<unk>\"])\n",
    "tgt_vocab.set_default_index(tgt_vocab[\"<unk>\"])\n",
    "\n",
    "inv_tgt_vocab = {idx: token for idx, token in enumerate(tgt_vocab.get_itos())}\n",
    "\n",
    "global device\n",
    "device = torch.device(\"cuda\" if torch.cuda.is_available() else \"cpu\")\n",
    "print(device)"
   ]
  },
  {
   "cell_type": "code",
   "execution_count": null,
   "id": "431b3dd2-0e50-4509-8b8a-987787d55a7b",
   "metadata": {
    "tags": []
   },
   "outputs": [],
   "source": [
    "train_dataset = TranslationDataset(train_src_lines, train_tgt_lines, src_vocab, tgt_vocab)\n",
    "valid_dataset = TranslationDataset(valid_src_lines, valid_tgt_lines, src_vocab, tgt_vocab)\n",
    "train_loader = DataLoader(train_dataset, batch_size=config.batch_size, shuffle=True, collate_fn=collate_fn)\n",
    "valid_loader = DataLoader(valid_dataset, batch_size=config.batch_size, shuffle=False, collate_fn=collate_fn)"
   ]
  },
  {
   "cell_type": "code",
   "execution_count": null,
   "id": "a4b48ec3-28cd-4ae9-94a2-304d619f99b6",
   "metadata": {
    "tags": []
   },
   "outputs": [],
   "source": [
    "model_config = {k: config[k] for k in [\"d_model\", \"nhead\", \"num_encoder_layers\", \"num_decoder_layers\", \"dim_feedforward\", \"dropout\"]}\n",
    "model = TransformerMT(len(src_vocab), len(tgt_vocab), src_pad_idx=src_vocab[\"<pad>\"], \n",
    "                       tgt_pad_idx=tgt_vocab[\"<pad>\"], **model_config).to(device)\n",
    "if torch.cuda.device_count() > 1:\n",
    "    model = torch.nn.DataParallel(model)\n",
    "for p in model.parameters():\n",
    "    if p.dim() > 1:\n",
    "        nn.init.xavier_uniform_(p)\n",
    "criterion = nn.CrossEntropyLoss(ignore_index=tgt_vocab[\"<pad>\"], label_smoothing=0.1)\n",
    "optimizer = torch.optim.AdamW(model.parameters(), lr=0, betas=(0.9, 0.98), eps=1e-9, weight_decay=0.01)\n",
    "scheduler = WarmupInverseSquareRootSchedule(optimizer, warmup_steps=config.warmup_steps, d_model=config.d_model)"
   ]
  },
  {
   "cell_type": "code",
   "execution_count": null,
   "id": "e93326c4-4326-44e5-986a-6b87fbe5cb95",
   "metadata": {
    "tags": []
   },
   "outputs": [],
   "source": [
    "import warnings\n",
    "warnings.filterwarnings(\"ignore\", category=UserWarning)"
   ]
  },
  {
   "cell_type": "code",
   "execution_count": null,
   "id": "577335dd-48bd-4546-966f-e526544ccfc1",
   "metadata": {
    "tags": []
   },
   "outputs": [],
   "source": [
    "for epoch in range(1, config.epochs + 1):\n",
    "    start_time = time.time()\n",
    "    train_loss = train_epoch(model, train_loader, optimizer, criterion, scheduler)\n",
    "    valid_loss = evaluate(model, valid_loader, criterion)\n",
    "    elapsed = time.time() - start_time\n",
    "    wandb.log({\"epoch\": epoch, \"train_loss\": train_loss, \"valid_loss\": valid_loss, \"epoch_time\": elapsed})\n",
    "    print(\"Epoch\", epoch, \"Train Loss:\", train_loss, \"Valid Loss:\", valid_loss, \"Time:\", elapsed)\n",
    "wandb.finish()"
   ]
  },
  {
   "cell_type": "code",
   "execution_count": null,
   "id": "2eaa8af8-b47a-4cd7-8be4-dc390a82e4a8",
   "metadata": {
    "tags": []
   },
   "outputs": [],
   "source": [
    "# model.load_state_dict(torch.load(\"/home/jupyter/datasphere/project/checkpoint.pth\")['model_state_dict'], strict=False)"
   ]
  },
  {
   "cell_type": "code",
   "execution_count": null,
   "id": "1aff0c00-be44-4246-a52a-bc6b8ab9bb20",
   "metadata": {
    "tags": []
   },
   "outputs": [],
   "source": [
    "# checkpoint = {\n",
    "#     'model_state_dict': model.state_dict(),\n",
    "#     'optimizer_state_dict': optimizer.state_dict(),\n",
    "# }\n",
    "# torch.save(checkpoint, 'checkpoint.pth')"
   ]
  },
  {
   "cell_type": "code",
   "execution_count": null,
   "id": "36389586-3c48-4a01-be33-f4b1db075921",
   "metadata": {
    "tags": []
   },
   "outputs": [],
   "source": [
    "@torch.no_grad()\n",
    "def beam_search_decode(model, src, src_mask, max_len, start_symbol, end_symbol,\n",
    "                       beam_size=3, length_penalty=0.75):\n",
    "    if hasattr(model, \"module\"):\n",
    "        model = model.module\n",
    "    device = src.device\n",
    "    if src.dim() == 1:\n",
    "        src = src.unsqueeze(0)\n",
    "    src_mask = src_mask.to(device)\n",
    "    memory = model.encode(src, src_mask)\n",
    "    beams = [([start_symbol], 0.0)]\n",
    "    completed = []\n",
    "\n",
    "    for curr_len in range(1, max_len + 1):\n",
    "        new_beams = []\n",
    "        for tokens, score in beams:\n",
    "            if tokens[-1] == end_symbol:\n",
    "                norm_score = score / (curr_len ** length_penalty)\n",
    "                completed.append((tokens, norm_score))\n",
    "                continue\n",
    "            tgt = torch.tensor([tokens], dtype=torch.long, device=device)\n",
    "            tgt_mask = model.generate_square_subsequent_mask(tgt.size(1)).to(device)\n",
    "            out = model.decode(tgt, memory, tgt_mask)  \n",
    "            if out.dim() == 3 and out.shape[0] != 1:\n",
    "                out = out.transpose(0, 1)\n",
    "            logits = model.fc_out(out[:, -1, :])\n",
    "            log_probs = torch.log_softmax(logits, dim=-1).squeeze(0)\n",
    "            topk_log_probs, topk_indices = log_probs.topk(beam_size)\n",
    "            for i in range(beam_size):\n",
    "                new_tokens = tokens + [topk_indices[i].item()]\n",
    "                new_score = score + topk_log_probs[i].item()\n",
    "                new_beams.append((new_tokens, new_score))\n",
    "        if not new_beams:\n",
    "            break\n",
    "        beams = sorted(new_beams, key=lambda x: x[1], reverse=True)[:beam_size]\n",
    "        if len(completed) >= beam_size:\n",
    "            break\n",
    "\n",
    "    if completed:\n",
    "        best_tokens, _ = max(completed, key=lambda x: x[1])\n",
    "    else:\n",
    "        best_tokens, _ = max(beams, key=lambda x: x[1])\n",
    "    if best_tokens and best_tokens[0] == start_symbol:\n",
    "        best_tokens = best_tokens[1:]\n",
    "    if best_tokens and best_tokens[-1] == end_symbol:\n",
    "        best_tokens = best_tokens[:-1]\n",
    "    return best_tokens"
   ]
  },
  {
   "cell_type": "code",
   "execution_count": null,
   "id": "986c27f1-28d3-49ee-b09a-2feea5831212",
   "metadata": {
    "tags": []
   },
   "outputs": [],
   "source": [
    "test_predictions = []\n",
    "with torch.no_grad():\n",
    "    for src_sentence in tqdm(test_src_lines):\n",
    "        src_indices = [src_vocab[tok] for tok in src_sentence.split()]\n",
    "        src_tensor = torch.tensor(src_indices, dtype=torch.long).to(device)\n",
    "        src_mask = torch.zeros(len(src_indices), len(src_indices), dtype=torch.bool).to(device)\n",
    "        decoded_indices = beam_search_decode(\n",
    "            model, src_tensor, src_mask, max_len=100, beam_size=5,\n",
    "            start_symbol=tgt_vocab[\"<bos>\"], end_symbol=tgt_vocab[\"<eos>\"]\n",
    "        )\n",
    "        decoded_words = [inv_tgt_vocab[idx] for idx in decoded_indices if idx not in [tgt_vocab[\"<bos>\"], tgt_vocab[\"<pad>\"]]]\n",
    "        if \"<eos>\" in decoded_words:\n",
    "            decoded_words = decoded_words[:decoded_words.index(\"<eos>\")]\n",
    "        test_predictions.append(\" \".join(decoded_words))\n",
    "        \n",
    "with open(\"test_predictions.en\", \"w\", encoding=\"utf-8\") as f:\n",
    "    for line in test_predictions:\n",
    "        f.write(line + \"\\n\")"
   ]
  },
  {
   "cell_type": "code",
   "execution_count": null,
   "id": "97fd13ca-7dd6-4109-90ac-50d0cbdbac1c",
   "metadata": {},
   "outputs": [],
   "source": []
  }
 ],
 "metadata": {
  "kernelspec": {
   "display_name": "DataSphere Kernel",
   "language": "python",
   "name": "python3"
  },
  "language_info": {
   "codemirror_mode": {
    "name": "ipython",
    "version": 3
   },
   "file_extension": ".py",
   "mimetype": "text/x-python",
   "name": "python",
   "nbconvert_exporter": "python",
   "pygments_lexer": "ipython3",
   "version": "3.10.12"
  }
 },
 "nbformat": 4,
 "nbformat_minor": 5
}
